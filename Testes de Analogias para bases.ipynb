{
 "cells": [
  {
   "cell_type": "code",
   "execution_count": 6,
   "metadata": {},
   "outputs": [],
   "source": [
    "from gensim.models import KeyedVectors\n",
    "from sklearn.metrics.pairwise import cosine_similarity\n",
    "import numpy as np\n",
    "from glob import glob\n"
   ]
  },
  {
   "cell_type": "code",
   "execution_count": 7,
   "metadata": {},
   "outputs": [],
   "source": [
    "def getModel(modelFile):\n",
    "    model = KeyedVectors.load_word2vec_format(modelFile)\n",
    "    return model\n",
    "\n",
    "# https://datascience-enthusiast.com/DL/Operations_on_word_vectors.html\n",
    "def similar_cos(u, v):\n",
    "    distance = 0.0\n",
    "\n",
    "    # Compute the dot product between u and v (≈1 line)\n",
    "    dot = np.dot(u, v)\n",
    "    # Compute the L2 norm of u (≈1 line)\n",
    "#     norm_u = np.sqrt(np.sum(u**2))\n",
    "    norm_u = np.linalg.norm(u)\n",
    "    \n",
    "    # Compute the L2 norm of v (≈1 line)\n",
    "#     norm_v = np.sqrt(np.sum(v**2))\n",
    "    norm_v = np.linalg.norm(v)\n",
    "    \n",
    "    # Compute the cosine similarity defined by formula (1) (≈1 line)\n",
    "    cosine_similarity = dot / (norm_u * norm_v)\n",
    "\n",
    "    return cosine_similarity\n",
    "\n",
    "def extract_relation(target, related):\n",
    "    return target - related\n",
    "\n",
    "def find_best_related_word(analogy_vector, model):\n",
    "#     related = target + relation\n",
    "    max_sim = 0.0\n",
    "    best_word = None\n",
    "    for word in model.vocab:\n",
    "#         relation1 = relation.reshape(1,-1)\n",
    "#         relation2 = extract_relation(model.word_vec(target), model.word_vec(word)).reshape(1,-1)\n",
    "        sim = similar_cos(analogy_vector, model[word])\n",
    "        if(sim > max_sim):\n",
    "            best_word = word\n",
    "    \n",
    "    return best_word;\n",
    "    "
   ]
  },
  {
   "cell_type": "code",
   "execution_count": 3,
   "metadata": {},
   "outputs": [],
   "source": [
    "def processTriadAnalogy(word1,word2,word3, modelsList):\n",
    "    result = []\n",
    "    for modelFileRef in modelsList:\n",
    "        model = getModel(modelFileRef)\n",
    "        if(word1 in model and word2 in model and word3 in model):\n",
    "            \n",
    "            v_word1 = model.word_vec(word1)\n",
    "            v_word2 = model.word_vec(word2)\n",
    "            v_word3 = model.word_vec(word3)\n",
    "    #         basisRelation = extract_relation(v_word1, v_word2)\n",
    "            basisRelation = v_word1 - v_word2 + v_word3\n",
    "            bestWordOnModel = find_best_related_word(basisRelation, model)\n",
    "            result.append('Model: ' + modelFileRef + '/n Best Word : ' + bestWordOnModel)\n",
    "        else:\n",
    "            print('Fail:Word not found in model')\n",
    "    return result\n",
    "            "
   ]
  },
  {
   "cell_type": "code",
   "execution_count": 4,
   "metadata": {},
   "outputs": [],
   "source": [
    "# result = processTriadAnalogy(word1,word2,word3,modelsList)"
   ]
  },
  {
   "cell_type": "markdown",
   "metadata": {},
   "source": [
    "- Teste 1 - Biblioteca KeyedVector e seus metodos de similaridade"
   ]
  },
  {
   "cell_type": "code",
   "execution_count": 5,
   "metadata": {},
   "outputs": [
    {
     "name": "stdout",
     "output_type": "stream",
     "text": [
      "['../models/cbow_s300.txt', '../models/cbow_s100.txt', '../models/cbow_s50.txt']\n"
     ]
    }
   ],
   "source": [
    "modelsList = glob('../models/cbow_*.txt')\n",
    "model = [getModel(x) for x in modelsList]\n",
    "\n",
    "print(modelsList)\n"
   ]
  },
  {
   "cell_type": "code",
   "execution_count": 21,
   "metadata": {},
   "outputs": [
    {
     "data": {
      "text/plain": [
       "[('eisenhower', 0.47269853949546814),\n",
       " ('lula', 0.460972398519516),\n",
       " ('bush', 0.4601280987262726),\n",
       " ('ratsiraka', 0.43053072690963745),\n",
       " ('clinton', 0.4282917082309723),\n",
       " ('saakashvili', 0.4188674986362457),\n",
       " ('uribe', 0.4161287844181061),\n",
       " ('draghi', 0.40998852252960205),\n",
       " ('netanyahu', 0.403103768825531),\n",
       " ('yushchenko', 0.3994860053062439)]"
      ]
     },
     "execution_count": 21,
     "metadata": {},
     "output_type": "execute_result"
    }
   ],
   "source": [
    "model[0].most_similar(positive=['barack', 'obama'])"
   ]
  },
  {
   "cell_type": "code",
   "execution_count": null,
   "metadata": {},
   "outputs": [],
   "source": []
  },
  {
   "cell_type": "code",
   "execution_count": 8,
   "metadata": {},
   "outputs": [
    {
     "name": "stdout",
     "output_type": "stream",
     "text": [
      "../models/cbow_s300.txt [('princesa', 0.5880060791969299), ('infanta', 0.5544092655181885), ('rainha-mãe', 0.5047087669372559), ('ex-rainha', 0.5002995729446411), ('imperatriz', 0.4982605278491974), ('raínha', 0.498224675655365), ('rainha-consorte', 0.4923296570777893), ('duquesa', 0.4890612065792084), ('condessa', 0.4880494177341461), ('regente', 0.460879385471344)]\n",
      "Positive:   rei rainha \n",
      "Negative: homem\n",
      "\n",
      "../models/cbow_s100.txt [('raínha', 0.6748343706130981), ('princesa', 0.6687842607498169), ('rainha-consorte', 0.6617846488952637), ('rainha-mãe', 0.6472653746604919), ('duquesa', 0.6418556571006775), ('pártia', 0.6328529119491577), ('imperatriz', 0.628162682056427), ('primogénita', 0.6190635561943054), ('condessa', 0.6179429292678833), ('coroação', 0.6084483861923218)]\n",
      "Positive:   rei rainha \n",
      "Negative: homem\n",
      "\n",
      "../models/cbow_s50.txt [('duquesa', 0.7385571002960205), ('princesa', 0.724755048751831), ('grã-duquesa', 0.7228216528892517), ('imperatriz', 0.7180843949317932), ('rainha-consorte', 0.7107272744178772), ('ex-rainha', 0.7102654576301575), ('dinastia', 0.7076348066329956), ('herdeira', 0.7072440981864929), ('czarina', 0.7034566402435303), ('sibila', 0.6953685283660889)]\n",
      "Positive:   rei rainha \n",
      "Negative: homem\n",
      "\n"
     ]
    }
   ],
   "source": [
    "word1 = 'rei'\n",
    "word2 = 'homem'\n",
    "word3 = 'rainha'\n",
    "\n",
    "for index, x in enumerate(model):\n",
    "    nMostSimilar = x.most_similar(positive=[word1,word3], negative=[word2])\n",
    "\n",
    "    print(modelsList[index], nMostSimilar)\n",
    "    print('Positive:  ', word1,word3, '\\nNegative:',word2)\n",
    "    print()"
   ]
  },
  {
   "cell_type": "code",
   "execution_count": null,
   "metadata": {
    "scrolled": true
   },
   "outputs": [],
   "source": [
    "word1 = 'rei'\n",
    "word2 = 'homem'\n",
    "word3 = 'mulher'\n",
    "\n",
    "listm = [modelsList[0]]\n",
    "\n",
    "result = processTriadAnalogy(word1, word2, word3, listm)"
   ]
  },
  {
   "cell_type": "markdown",
   "metadata": {},
   "source": [
    "Troca de Palavras "
   ]
  },
  {
   "cell_type": "code",
   "execution_count": 13,
   "metadata": {},
   "outputs": [],
   "source": [
    "word1 = 'rei'\n",
    "word2 = 'homem'\n",
    "word3 = 'mulher'\n",
    "\n",
    "model = getModel(modelsList[2])\n",
    "\n",
    "list = model.most_similar(positive=[word1,word3], negative=[word2])"
   ]
  },
  {
   "cell_type": "code",
   "execution_count": 14,
   "metadata": {
    "scrolled": true
   },
   "outputs": [
    {
     "name": "stdout",
     "output_type": "stream",
     "text": [
      "../models/cbow_s100.txt [('esposa', 0.688875675201416), ('filha', 0.6741011142730713), ('governanta', 0.6724554896354675), ('sobrinha', 0.669994056224823), ('madrasta', 0.6670832633972168), ('concubina', 0.6659663915634155), ('dama-de-companhia', 0.6614803075790405), ('benção', 0.659320056438446), ('múmia', 0.6535747051239014), ('bênção', 0.6500141620635986)]\n",
      "Positive:   rei mulher \n",
      "Negative: homem\n"
     ]
    }
   ],
   "source": [
    "print(modelsList[2], list)\n",
    "print('Positive:  ', word1,word3, '\\nNegative:',word2)"
   ]
  },
  {
   "cell_type": "markdown",
   "metadata": {},
   "source": [
    "## Testando os métodos indicados pelo Paper - FastText 300 e  Glove 300"
   ]
  },
  {
   "cell_type": "code",
   "execution_count": 5,
   "metadata": {},
   "outputs": [],
   "source": [
    "models = []\n",
    "fast = '../models/skip_s300fast.txt'\n",
    "glove = '../models/glove_s300.txt'\n",
    "models.append(getModel(fast))\n",
    "models.append(getModel(glove))"
   ]
  },
  {
   "cell_type": "code",
   "execution_count": 6,
   "metadata": {},
   "outputs": [],
   "source": [
    "model = models[0]\n",
    "word1 = 'rei'\n",
    "word2 = 'homem'\n",
    "word3 = 'mulher'\n",
    "\n",
    "list = model.most_similar(positive=[word1,word3], negative=[word2])"
   ]
  },
  {
   "cell_type": "code",
   "execution_count": 8,
   "metadata": {},
   "outputs": [],
   "source": [
    "model = models[1]\n",
    "list2 = model.most_similar(positive=[word1,word3], negative=[word2])b"
   ]
  },
  {
   "cell_type": "code",
   "execution_count": 9,
   "metadata": {},
   "outputs": [
    {
     "name": "stdout",
     "output_type": "stream",
     "text": [
      "[('rainha', 0.7449502348899841), ('rainha-regente', 0.6796571016311646), ('princesa-regente', 0.6528101563453674), ('esposa', 0.6449019908905029), ('princesa', 0.6373282670974731), ('consorte', 0.6351529955863953), ('«rainha', 0.6276739835739136), ('filha', 0.6266849040985107), ('desposa', 0.6201632022857666), ('rainha-a', 0.6200650930404663)]\n",
      "[('rainha', 0.7193283438682556), ('filha', 0.6310628652572632), ('esposa', 0.627386212348938), ('princesa', 0.6068346500396729), ('isabel', 0.5972704887390137), ('irmã', 0.5631763935089111), ('consorte', 0.5383861064910889), ('trono', 0.5359665155410767), ('príncipe', 0.5172233581542969), ('joana', 0.5126430988311768)]\n"
     ]
    }
   ],
   "source": [
    "print(list)\n",
    "print(list2)"
   ]
  },
  {
   "cell_type": "code",
   "execution_count": 16,
   "metadata": {},
   "outputs": [
    {
     "data": {
      "text/plain": [
       "[('primeira-damas', 0.8656221628189087),\n",
       " ('barack', 0.8468867540359497),\n",
       " ('ex-primeira-dama', 0.7975351214408875),\n",
       " ('obamas', 0.762374997138977),\n",
       " ('clinton', 0.7279771566390991),\n",
       " ('obama.a', 0.7279264330863953),\n",
       " ('segunda-dama', 0.721454918384552),\n",
       " ('vice-primeira-dama', 0.7174794673919678),\n",
       " ('robama', 0.713536262512207),\n",
       " ('hillary', 0.7119442224502563)]"
      ]
     },
     "execution_count": 16,
     "metadata": {},
     "output_type": "execute_result"
    }
   ],
   "source": [
    "models[0].most_similar(positive=['primeira-dama','obama'])"
   ]
  },
  {
   "cell_type": "markdown",
   "metadata": {},
   "source": [
    "## Avaliando precisao dos modelos\n"
   ]
  },
  {
   "cell_type": "code",
   "execution_count": 20,
   "metadata": {},
   "outputs": [],
   "source": [
    "def eval_analogy_accuracy(modelRef, testSet):\n",
    "    model = getModel(modelRef)\n",
    "    acc = model.accuracy(testSet)\n",
    "    print(acc[0]['correct'])\n",
    "    corr = len(acc[0]['correct'])\n",
    "    incorr = len(acc[0]['incorrect'])\n",
    "    \n",
    "    return [corr, incorr]"
   ]
  },
  {
   "cell_type": "code",
   "execution_count": 21,
   "metadata": {},
   "outputs": [
    {
     "name": "stdout",
     "output_type": "stream",
     "text": [
      "[('ATENAS', 'GRÉCIA', 'PEQUIM', 'CHINA'), ('ATENAS', 'GRÉCIA', 'BERLIM', 'ALEMANHA'), ('ATENAS', 'GRÉCIA', 'CAIRO', 'EGITO'), ('ATENAS', 'GRÉCIA', 'HAVANA', 'CUBA'), ('ATENAS', 'GRÉCIA', 'HELSÍNQUIA', 'FINLÂNDIA'), ('ATENAS', 'GRÉCIA', 'LONDRES', 'INGLATERRA'), ('ATENAS', 'GRÉCIA', 'MADRID', 'ESPANHA'), ('ATENAS', 'GRÉCIA', 'MOSCOVO', 'RÚSSIA'), ('ATENAS', 'GRÉCIA', 'OSLO', 'NORUEGA'), ('ATENAS', 'GRÉCIA', 'OTTAWA', 'CANADÁ'), ('ATENAS', 'GRÉCIA', 'PARIS', 'FRANÇA'), ('ATENAS', 'GRÉCIA', 'ROMA', 'ITÁLIA'), ('ATENAS', 'GRÉCIA', 'ESTOCOLMO', 'SUÉCIA'), ('ATENAS', 'GRÉCIA', 'TÓQUIO', 'JAPÃO'), ('PEQUIM', 'CHINA', 'BERLIM', 'ALEMANHA'), ('PEQUIM', 'CHINA', 'CAIRO', 'EGITO'), ('PEQUIM', 'CHINA', 'HAVANA', 'CUBA'), ('PEQUIM', 'CHINA', 'HELSÍNQUIA', 'FINLÂNDIA'), ('PEQUIM', 'CHINA', 'LONDRES', 'INGLATERRA'), ('PEQUIM', 'CHINA', 'MOSCOVO', 'RÚSSIA'), ('PEQUIM', 'CHINA', 'OSLO', 'NORUEGA'), ('PEQUIM', 'CHINA', 'OTTAWA', 'CANADÁ'), ('PEQUIM', 'CHINA', 'PARIS', 'FRANÇA'), ('PEQUIM', 'CHINA', 'ROMA', 'ITÁLIA'), ('PEQUIM', 'CHINA', 'ESTOCOLMO', 'SUÉCIA'), ('PEQUIM', 'CHINA', 'TÓQUIO', 'JAPÃO'), ('PEQUIM', 'CHINA', 'ATENAS', 'GRÉCIA'), ('BERLIM', 'ALEMANHA', 'CAIRO', 'EGITO'), ('BERLIM', 'ALEMANHA', 'HAVANA', 'CUBA'), ('BERLIM', 'ALEMANHA', 'HELSÍNQUIA', 'FINLÂNDIA'), ('BERLIM', 'ALEMANHA', 'LONDRES', 'INGLATERRA'), ('BERLIM', 'ALEMANHA', 'MADRID', 'ESPANHA'), ('BERLIM', 'ALEMANHA', 'MOSCOVO', 'RÚSSIA'), ('BERLIM', 'ALEMANHA', 'OSLO', 'NORUEGA'), ('BERLIM', 'ALEMANHA', 'OTTAWA', 'CANADÁ'), ('BERLIM', 'ALEMANHA', 'PARIS', 'FRANÇA'), ('BERLIM', 'ALEMANHA', 'ROMA', 'ITÁLIA'), ('BERLIM', 'ALEMANHA', 'ESTOCOLMO', 'SUÉCIA'), ('BERLIM', 'ALEMANHA', 'TÓQUIO', 'JAPÃO'), ('BERLIM', 'ALEMANHA', 'ATENAS', 'GRÉCIA'), ('BERLIM', 'ALEMANHA', 'PEQUIM', 'CHINA'), ('BERNA', 'SUÍÇA', 'CAIRO', 'EGITO'), ('BERNA', 'SUÍÇA', 'HAVANA', 'CUBA'), ('BERNA', 'SUÍÇA', 'HELSÍNQUIA', 'FINLÂNDIA'), ('BERNA', 'SUÍÇA', 'LONDRES', 'INGLATERRA'), ('BERNA', 'SUÍÇA', 'MOSCOVO', 'RÚSSIA'), ('BERNA', 'SUÍÇA', 'OSLO', 'NORUEGA'), ('BERNA', 'SUÍÇA', 'OTTAWA', 'CANADÁ'), ('BERNA', 'SUÍÇA', 'PARIS', 'FRANÇA'), ('BERNA', 'SUÍÇA', 'ROMA', 'ITÁLIA'), ('BERNA', 'SUÍÇA', 'ESTOCOLMO', 'SUÉCIA'), ('BERNA', 'SUÍÇA', 'TÓQUIO', 'JAPÃO'), ('BERNA', 'SUÍÇA', 'ATENAS', 'GRÉCIA'), ('BERNA', 'SUÍÇA', 'PEQUIM', 'CHINA'), ('BERNA', 'SUÍÇA', 'BERLIM', 'ALEMANHA'), ('CAIRO', 'EGITO', 'HAVANA', 'CUBA'), ('CAIRO', 'EGITO', 'HELSÍNQUIA', 'FINLÂNDIA'), ('CAIRO', 'EGITO', 'LONDRES', 'INGLATERRA'), ('CAIRO', 'EGITO', 'MOSCOVO', 'RÚSSIA'), ('CAIRO', 'EGITO', 'OSLO', 'NORUEGA'), ('CAIRO', 'EGITO', 'OTTAWA', 'CANADÁ'), ('CAIRO', 'EGITO', 'PARIS', 'FRANÇA'), ('CAIRO', 'EGITO', 'ROMA', 'ITÁLIA'), ('CAIRO', 'EGITO', 'ESTOCOLMO', 'SUÉCIA'), ('CAIRO', 'EGITO', 'TÓQUIO', 'JAPÃO'), ('CAIRO', 'EGITO', 'ATENAS', 'GRÉCIA'), ('CAIRO', 'EGITO', 'PEQUIM', 'CHINA'), ('CAIRO', 'EGITO', 'BERLIM', 'ALEMANHA'), ('HAVANA', 'CUBA', 'HELSÍNQUIA', 'FINLÂNDIA'), ('HAVANA', 'CUBA', 'LONDRES', 'INGLATERRA'), ('HAVANA', 'CUBA', 'MOSCOVO', 'RÚSSIA'), ('HAVANA', 'CUBA', 'OSLO', 'NORUEGA'), ('HAVANA', 'CUBA', 'OTTAWA', 'CANADÁ'), ('HAVANA', 'CUBA', 'PARIS', 'FRANÇA'), ('HAVANA', 'CUBA', 'ROMA', 'ITÁLIA'), ('HAVANA', 'CUBA', 'TÓQUIO', 'JAPÃO'), ('HAVANA', 'CUBA', 'ATENAS', 'GRÉCIA'), ('HAVANA', 'CUBA', 'PEQUIM', 'CHINA'), ('HAVANA', 'CUBA', 'BERLIM', 'ALEMANHA'), ('HAVANA', 'CUBA', 'CAIRO', 'EGITO'), ('HELSÍNQUIA', 'FINLÂNDIA', 'LONDRES', 'INGLATERRA'), ('HELSÍNQUIA', 'FINLÂNDIA', 'MADRID', 'ESPANHA'), ('HELSÍNQUIA', 'FINLÂNDIA', 'MOSCOVO', 'RÚSSIA'), ('HELSÍNQUIA', 'FINLÂNDIA', 'OSLO', 'NORUEGA'), ('HELSÍNQUIA', 'FINLÂNDIA', 'OTTAWA', 'CANADÁ'), ('HELSÍNQUIA', 'FINLÂNDIA', 'PARIS', 'FRANÇA'), ('HELSÍNQUIA', 'FINLÂNDIA', 'ROMA', 'ITÁLIA'), ('HELSÍNQUIA', 'FINLÂNDIA', 'ESTOCOLMO', 'SUÉCIA'), ('HELSÍNQUIA', 'FINLÂNDIA', 'TÓQUIO', 'JAPÃO'), ('HELSÍNQUIA', 'FINLÂNDIA', 'ATENAS', 'GRÉCIA'), ('HELSÍNQUIA', 'FINLÂNDIA', 'PEQUIM', 'CHINA'), ('HELSÍNQUIA', 'FINLÂNDIA', 'BERLIM', 'ALEMANHA'), ('HELSÍNQUIA', 'FINLÂNDIA', 'CAIRO', 'EGITO'), ('HELSÍNQUIA', 'FINLÂNDIA', 'HAVANA', 'CUBA'), ('LONDRES', 'INGLATERRA', 'MOSCOVO', 'RÚSSIA'), ('LONDRES', 'INGLATERRA', 'OSLO', 'NORUEGA'), ('LONDRES', 'INGLATERRA', 'PARIS', 'FRANÇA'), ('LONDRES', 'INGLATERRA', 'ROMA', 'ITÁLIA'), ('LONDRES', 'INGLATERRA', 'ESTOCOLMO', 'SUÉCIA'), ('LONDRES', 'INGLATERRA', 'TÓQUIO', 'JAPÃO'), ('LONDRES', 'INGLATERRA', 'ATENAS', 'GRÉCIA'), ('LONDRES', 'INGLATERRA', 'PEQUIM', 'CHINA'), ('LONDRES', 'INGLATERRA', 'BERLIM', 'ALEMANHA'), ('LONDRES', 'INGLATERRA', 'CAIRO', 'EGITO'), ('LONDRES', 'INGLATERRA', 'HAVANA', 'CUBA'), ('LONDRES', 'INGLATERRA', 'HELSÍNQUIA', 'FINLÂNDIA'), ('MADRID', 'ESPANHA', 'MOSCOVO', 'RÚSSIA'), ('MADRID', 'ESPANHA', 'OSLO', 'NORUEGA'), ('MADRID', 'ESPANHA', 'OTTAWA', 'CANADÁ'), ('MADRID', 'ESPANHA', 'PARIS', 'FRANÇA'), ('MADRID', 'ESPANHA', 'ROMA', 'ITÁLIA'), ('MADRID', 'ESPANHA', 'ESTOCOLMO', 'SUÉCIA'), ('MADRID', 'ESPANHA', 'TÓQUIO', 'JAPÃO'), ('MADRID', 'ESPANHA', 'ATENAS', 'GRÉCIA'), ('MADRID', 'ESPANHA', 'PEQUIM', 'CHINA'), ('MADRID', 'ESPANHA', 'BERLIM', 'ALEMANHA'), ('MADRID', 'ESPANHA', 'CAIRO', 'EGITO'), ('MADRID', 'ESPANHA', 'HAVANA', 'CUBA'), ('MADRID', 'ESPANHA', 'HELSÍNQUIA', 'FINLÂNDIA'), ('MOSCOVO', 'RÚSSIA', 'OSLO', 'NORUEGA'), ('MOSCOVO', 'RÚSSIA', 'OTTAWA', 'CANADÁ'), ('MOSCOVO', 'RÚSSIA', 'PARIS', 'FRANÇA'), ('MOSCOVO', 'RÚSSIA', 'ROMA', 'ITÁLIA'), ('MOSCOVO', 'RÚSSIA', 'ESTOCOLMO', 'SUÉCIA'), ('MOSCOVO', 'RÚSSIA', 'TÓQUIO', 'JAPÃO'), ('MOSCOVO', 'RÚSSIA', 'ATENAS', 'GRÉCIA'), ('MOSCOVO', 'RÚSSIA', 'PEQUIM', 'CHINA'), ('MOSCOVO', 'RÚSSIA', 'BERLIM', 'ALEMANHA'), ('MOSCOVO', 'RÚSSIA', 'BERNA', 'SUÍÇA'), ('MOSCOVO', 'RÚSSIA', 'CAIRO', 'EGITO'), ('MOSCOVO', 'RÚSSIA', 'HAVANA', 'CUBA'), ('MOSCOVO', 'RÚSSIA', 'HELSÍNQUIA', 'FINLÂNDIA'), ('MOSCOVO', 'RÚSSIA', 'LONDRES', 'INGLATERRA'), ('OSLO', 'NORUEGA', 'OTTAWA', 'CANADÁ'), ('OSLO', 'NORUEGA', 'PARIS', 'FRANÇA'), ('OSLO', 'NORUEGA', 'ROMA', 'ITÁLIA'), ('OSLO', 'NORUEGA', 'ESTOCOLMO', 'SUÉCIA'), ('OSLO', 'NORUEGA', 'TÓQUIO', 'JAPÃO'), ('OSLO', 'NORUEGA', 'ATENAS', 'GRÉCIA'), ('OSLO', 'NORUEGA', 'PEQUIM', 'CHINA'), ('OSLO', 'NORUEGA', 'BERLIM', 'ALEMANHA'), ('OSLO', 'NORUEGA', 'CAIRO', 'EGITO'), ('OSLO', 'NORUEGA', 'HAVANA', 'CUBA'), ('OSLO', 'NORUEGA', 'HELSÍNQUIA', 'FINLÂNDIA'), ('OSLO', 'NORUEGA', 'LONDRES', 'INGLATERRA'), ('OSLO', 'NORUEGA', 'MADRID', 'ESPANHA'), ('OSLO', 'NORUEGA', 'MOSCOVO', 'RÚSSIA'), ('OTTAWA', 'CANADÁ', 'PARIS', 'FRANÇA'), ('OTTAWA', 'CANADÁ', 'ROMA', 'ITÁLIA'), ('OTTAWA', 'CANADÁ', 'ESTOCOLMO', 'SUÉCIA'), ('OTTAWA', 'CANADÁ', 'TÓQUIO', 'JAPÃO'), ('OTTAWA', 'CANADÁ', 'ATENAS', 'GRÉCIA'), ('OTTAWA', 'CANADÁ', 'PEQUIM', 'CHINA'), ('OTTAWA', 'CANADÁ', 'BERLIM', 'ALEMANHA'), ('OTTAWA', 'CANADÁ', 'HAVANA', 'CUBA'), ('OTTAWA', 'CANADÁ', 'HELSÍNQUIA', 'FINLÂNDIA'), ('OTTAWA', 'CANADÁ', 'MADRID', 'ESPANHA'), ('OTTAWA', 'CANADÁ', 'MOSCOVO', 'RÚSSIA'), ('OTTAWA', 'CANADÁ', 'OSLO', 'NORUEGA'), ('PARIS', 'FRANÇA', 'ROMA', 'ITÁLIA'), ('PARIS', 'FRANÇA', 'ESTOCOLMO', 'SUÉCIA'), ('PARIS', 'FRANÇA', 'TÓQUIO', 'JAPÃO'), ('PARIS', 'FRANÇA', 'ATENAS', 'GRÉCIA'), ('PARIS', 'FRANÇA', 'PEQUIM', 'CHINA'), ('PARIS', 'FRANÇA', 'BERLIM', 'ALEMANHA'), ('PARIS', 'FRANÇA', 'BERNA', 'SUÍÇA'), ('PARIS', 'FRANÇA', 'CAIRO', 'EGITO'), ('PARIS', 'FRANÇA', 'HAVANA', 'CUBA'), ('PARIS', 'FRANÇA', 'HELSÍNQUIA', 'FINLÂNDIA'), ('PARIS', 'FRANÇA', 'MADRID', 'ESPANHA'), ('PARIS', 'FRANÇA', 'MOSCOVO', 'RÚSSIA'), ('PARIS', 'FRANÇA', 'OSLO', 'NORUEGA'), ('PARIS', 'FRANÇA', 'OTTAWA', 'CANADÁ'), ('ROMA', 'ITÁLIA', 'ESTOCOLMO', 'SUÉCIA'), ('ROMA', 'ITÁLIA', 'TÓQUIO', 'JAPÃO'), ('ROMA', 'ITÁLIA', 'ATENAS', 'GRÉCIA'), ('ROMA', 'ITÁLIA', 'PEQUIM', 'CHINA'), ('ROMA', 'ITÁLIA', 'BERLIM', 'ALEMANHA'), ('ROMA', 'ITÁLIA', 'HAVANA', 'CUBA'), ('ROMA', 'ITÁLIA', 'HELSÍNQUIA', 'FINLÂNDIA'), ('ROMA', 'ITÁLIA', 'MADRID', 'ESPANHA'), ('ROMA', 'ITÁLIA', 'MOSCOVO', 'RÚSSIA'), ('ROMA', 'ITÁLIA', 'OSLO', 'NORUEGA'), ('ROMA', 'ITÁLIA', 'OTTAWA', 'CANADÁ'), ('ROMA', 'ITÁLIA', 'PARIS', 'FRANÇA'), ('ESTOCOLMO', 'SUÉCIA', 'TÓQUIO', 'JAPÃO'), ('ESTOCOLMO', 'SUÉCIA', 'ATENAS', 'GRÉCIA'), ('ESTOCOLMO', 'SUÉCIA', 'PEQUIM', 'CHINA'), ('ESTOCOLMO', 'SUÉCIA', 'BERLIM', 'ALEMANHA'), ('ESTOCOLMO', 'SUÉCIA', 'CAIRO', 'EGITO'), ('ESTOCOLMO', 'SUÉCIA', 'HAVANA', 'CUBA'), ('ESTOCOLMO', 'SUÉCIA', 'HELSÍNQUIA', 'FINLÂNDIA'), ('ESTOCOLMO', 'SUÉCIA', 'LONDRES', 'INGLATERRA'), ('ESTOCOLMO', 'SUÉCIA', 'MADRID', 'ESPANHA'), ('ESTOCOLMO', 'SUÉCIA', 'MOSCOVO', 'RÚSSIA'), ('ESTOCOLMO', 'SUÉCIA', 'OSLO', 'NORUEGA'), ('ESTOCOLMO', 'SUÉCIA', 'OTTAWA', 'CANADÁ'), ('ESTOCOLMO', 'SUÉCIA', 'PARIS', 'FRANÇA'), ('ESTOCOLMO', 'SUÉCIA', 'ROMA', 'ITÁLIA'), ('TÓQUIO', 'JAPÃO', 'ATENAS', 'GRÉCIA'), ('TÓQUIO', 'JAPÃO', 'PEQUIM', 'CHINA'), ('TÓQUIO', 'JAPÃO', 'BERLIM', 'ALEMANHA'), ('TÓQUIO', 'JAPÃO', 'BERNA', 'SUÍÇA'), ('TÓQUIO', 'JAPÃO', 'CAIRO', 'EGITO'), ('TÓQUIO', 'JAPÃO', 'HAVANA', 'CUBA'), ('TÓQUIO', 'JAPÃO', 'HELSÍNQUIA', 'FINLÂNDIA'), ('TÓQUIO', 'JAPÃO', 'LONDRES', 'INGLATERRA'), ('TÓQUIO', 'JAPÃO', 'MADRID', 'ESPANHA'), ('TÓQUIO', 'JAPÃO', 'MOSCOVO', 'RÚSSIA'), ('TÓQUIO', 'JAPÃO', 'OSLO', 'NORUEGA'), ('TÓQUIO', 'JAPÃO', 'OTTAWA', 'CANADÁ'), ('TÓQUIO', 'JAPÃO', 'PARIS', 'FRANÇA'), ('TÓQUIO', 'JAPÃO', 'ROMA', 'ITÁLIA'), ('TÓQUIO', 'JAPÃO', 'ESTOCOLMO', 'SUÉCIA')]\n",
      "../models/skip_s300fast.txt@../testsets/LX-4WAnalogies.txt-0.7867647058823529%\n"
     ]
    },
    {
     "name": "stdout",
     "output_type": "stream",
     "text": [
      "[('ATENAS', 'GRÉCIA', 'BAGDÁ', 'IRAQUE'), ('ATENAS', 'GRÉCIA', 'PEQUIM', 'CHINA'), ('ATENAS', 'GRÉCIA', 'BERLIM', 'ALEMANHA'), ('ATENAS', 'GRÉCIA', 'CAIRO', 'EGITO'), ('ATENAS', 'GRÉCIA', 'HAVANA', 'CUBA'), ('ATENAS', 'GRÉCIA', 'CABUL', 'AFEGANISTÃO'), ('ATENAS', 'GRÉCIA', 'LONDRES', 'INGLATERRA'), ('ATENAS', 'GRÉCIA', 'MADRID', 'ESPANHA'), ('ATENAS', 'GRÉCIA', 'MOSCOU', 'RÚSSIA'), ('ATENAS', 'GRÉCIA', 'OSLO', 'NORUEGA'), ('ATENAS', 'GRÉCIA', 'OTTAWA', 'CANADÁ'), ('ATENAS', 'GRÉCIA', 'PARIS', 'FRANÇA'), ('ATENAS', 'GRÉCIA', 'ROMA', 'ITÁLIA'), ('ATENAS', 'GRÉCIA', 'ESTOCOLMO', 'SUÉCIA'), ('ATENAS', 'GRÉCIA', 'TEERÃ', 'IRÃ'), ('ATENAS', 'GRÉCIA', 'TÓQUIO', 'JAPÃO'), ('BAGDÁ', 'IRAQUE', 'PEQUIM', 'CHINA'), ('BAGDÁ', 'IRAQUE', 'BERLIM', 'ALEMANHA'), ('BAGDÁ', 'IRAQUE', 'HAVANA', 'CUBA'), ('BAGDÁ', 'IRAQUE', 'CABUL', 'AFEGANISTÃO'), ('BAGDÁ', 'IRAQUE', 'MOSCOU', 'RÚSSIA'), ('BAGDÁ', 'IRAQUE', 'OSLO', 'NORUEGA'), ('BAGDÁ', 'IRAQUE', 'OTTAWA', 'CANADÁ'), ('BAGDÁ', 'IRAQUE', 'PARIS', 'FRANÇA'), ('BAGDÁ', 'IRAQUE', 'ROMA', 'ITÁLIA'), ('BAGDÁ', 'IRAQUE', 'TEERÃ', 'IRÃ'), ('BAGDÁ', 'IRAQUE', 'TÓQUIO', 'JAPÃO'), ('BAGDÁ', 'IRAQUE', 'ATENAS', 'GRÉCIA'), ('PEQUIM', 'CHINA', 'BERLIM', 'ALEMANHA'), ('PEQUIM', 'CHINA', 'CAIRO', 'EGITO'), ('PEQUIM', 'CHINA', 'HAVANA', 'CUBA'), ('PEQUIM', 'CHINA', 'CABUL', 'AFEGANISTÃO'), ('PEQUIM', 'CHINA', 'LONDRES', 'INGLATERRA'), ('PEQUIM', 'CHINA', 'MOSCOU', 'RÚSSIA'), ('PEQUIM', 'CHINA', 'OSLO', 'NORUEGA'), ('PEQUIM', 'CHINA', 'OTTAWA', 'CANADÁ'), ('PEQUIM', 'CHINA', 'PARIS', 'FRANÇA'), ('PEQUIM', 'CHINA', 'ROMA', 'ITÁLIA'), ('PEQUIM', 'CHINA', 'ESTOCOLMO', 'SUÉCIA'), ('PEQUIM', 'CHINA', 'TEERÃ', 'IRÃ'), ('PEQUIM', 'CHINA', 'TÓQUIO', 'JAPÃO'), ('PEQUIM', 'CHINA', 'ATENAS', 'GRÉCIA'), ('PEQUIM', 'CHINA', 'BAGDÁ', 'IRAQUE'), ('BERLIM', 'ALEMANHA', 'CAIRO', 'EGITO'), ('BERLIM', 'ALEMANHA', 'HAVANA', 'CUBA'), ('BERLIM', 'ALEMANHA', 'CABUL', 'AFEGANISTÃO'), ('BERLIM', 'ALEMANHA', 'LONDRES', 'INGLATERRA'), ('BERLIM', 'ALEMANHA', 'MADRID', 'ESPANHA'), ('BERLIM', 'ALEMANHA', 'MOSCOU', 'RÚSSIA'), ('BERLIM', 'ALEMANHA', 'OSLO', 'NORUEGA'), ('BERLIM', 'ALEMANHA', 'OTTAWA', 'CANADÁ'), ('BERLIM', 'ALEMANHA', 'PARIS', 'FRANÇA'), ('BERLIM', 'ALEMANHA', 'ROMA', 'ITÁLIA'), ('BERLIM', 'ALEMANHA', 'ESTOCOLMO', 'SUÉCIA'), ('BERLIM', 'ALEMANHA', 'TEERÃ', 'IRÃ'), ('BERLIM', 'ALEMANHA', 'TÓQUIO', 'JAPÃO'), ('BERLIM', 'ALEMANHA', 'ATENAS', 'GRÉCIA'), ('BERLIM', 'ALEMANHA', 'BAGDÁ', 'IRAQUE'), ('BERLIM', 'ALEMANHA', 'PEQUIM', 'CHINA'), ('BERNA', 'SUÍÇA', 'CAIRO', 'EGITO'), ('BERNA', 'SUÍÇA', 'HAVANA', 'CUBA'), ('BERNA', 'SUÍÇA', 'CABUL', 'AFEGANISTÃO'), ('BERNA', 'SUÍÇA', 'LONDRES', 'INGLATERRA'), ('BERNA', 'SUÍÇA', 'MOSCOU', 'RÚSSIA'), ('BERNA', 'SUÍÇA', 'OSLO', 'NORUEGA'), ('BERNA', 'SUÍÇA', 'OTTAWA', 'CANADÁ'), ('BERNA', 'SUÍÇA', 'PARIS', 'FRANÇA'), ('BERNA', 'SUÍÇA', 'ROMA', 'ITÁLIA'), ('BERNA', 'SUÍÇA', 'ESTOCOLMO', 'SUÉCIA'), ('BERNA', 'SUÍÇA', 'TEERÃ', 'IRÃ'), ('BERNA', 'SUÍÇA', 'TÓQUIO', 'JAPÃO'), ('BERNA', 'SUÍÇA', 'ATENAS', 'GRÉCIA'), ('BERNA', 'SUÍÇA', 'PEQUIM', 'CHINA'), ('BERNA', 'SUÍÇA', 'BERLIM', 'ALEMANHA'), ('CAIRO', 'EGITO', 'HAVANA', 'CUBA'), ('CAIRO', 'EGITO', 'CABUL', 'AFEGANISTÃO'), ('CAIRO', 'EGITO', 'LONDRES', 'INGLATERRA'), ('CAIRO', 'EGITO', 'MOSCOU', 'RÚSSIA'), ('CAIRO', 'EGITO', 'OSLO', 'NORUEGA'), ('CAIRO', 'EGITO', 'OTTAWA', 'CANADÁ'), ('CAIRO', 'EGITO', 'PARIS', 'FRANÇA'), ('CAIRO', 'EGITO', 'ROMA', 'ITÁLIA'), ('CAIRO', 'EGITO', 'ESTOCOLMO', 'SUÉCIA'), ('CAIRO', 'EGITO', 'TEERÃ', 'IRÃ'), ('CAIRO', 'EGITO', 'TÓQUIO', 'JAPÃO'), ('CAIRO', 'EGITO', 'ATENAS', 'GRÉCIA'), ('CAIRO', 'EGITO', 'PEQUIM', 'CHINA'), ('CAIRO', 'EGITO', 'BERLIM', 'ALEMANHA'), ('HAVANA', 'CUBA', 'CABUL', 'AFEGANISTÃO'), ('HAVANA', 'CUBA', 'LONDRES', 'INGLATERRA'), ('HAVANA', 'CUBA', 'MOSCOU', 'RÚSSIA'), ('HAVANA', 'CUBA', 'OSLO', 'NORUEGA'), ('HAVANA', 'CUBA', 'OTTAWA', 'CANADÁ'), ('HAVANA', 'CUBA', 'PARIS', 'FRANÇA'), ('HAVANA', 'CUBA', 'ROMA', 'ITÁLIA'), ('HAVANA', 'CUBA', 'TEERÃ', 'IRÃ'), ('HAVANA', 'CUBA', 'TÓQUIO', 'JAPÃO'), ('HAVANA', 'CUBA', 'ATENAS', 'GRÉCIA'), ('HAVANA', 'CUBA', 'BAGDÁ', 'IRAQUE'), ('HAVANA', 'CUBA', 'PEQUIM', 'CHINA'), ('HAVANA', 'CUBA', 'BERLIM', 'ALEMANHA'), ('HAVANA', 'CUBA', 'CAIRO', 'EGITO'), ('CABUL', 'AFEGANISTÃO', 'LONDRES', 'INGLATERRA'), ('CABUL', 'AFEGANISTÃO', 'MOSCOU', 'RÚSSIA'), ('CABUL', 'AFEGANISTÃO', 'OSLO', 'NORUEGA'), ('CABUL', 'AFEGANISTÃO', 'OTTAWA', 'CANADÁ'), ('CABUL', 'AFEGANISTÃO', 'PARIS', 'FRANÇA'), ('CABUL', 'AFEGANISTÃO', 'ROMA', 'ITÁLIA'), ('CABUL', 'AFEGANISTÃO', 'TEERÃ', 'IRÃ'), ('CABUL', 'AFEGANISTÃO', 'TÓQUIO', 'JAPÃO'), ('CABUL', 'AFEGANISTÃO', 'ATENAS', 'GRÉCIA'), ('CABUL', 'AFEGANISTÃO', 'BAGDÁ', 'IRAQUE'), ('CABUL', 'AFEGANISTÃO', 'PEQUIM', 'CHINA'), ('CABUL', 'AFEGANISTÃO', 'BERLIM', 'ALEMANHA'), ('CABUL', 'AFEGANISTÃO', 'HAVANA', 'CUBA'), ('LONDRES', 'INGLATERRA', 'MOSCOU', 'RÚSSIA'), ('LONDRES', 'INGLATERRA', 'OSLO', 'NORUEGA'), ('LONDRES', 'INGLATERRA', 'PARIS', 'FRANÇA'), ('LONDRES', 'INGLATERRA', 'ROMA', 'ITÁLIA'), ('LONDRES', 'INGLATERRA', 'ESTOCOLMO', 'SUÉCIA'), ('LONDRES', 'INGLATERRA', 'TEERÃ', 'IRÃ'), ('LONDRES', 'INGLATERRA', 'TÓQUIO', 'JAPÃO'), ('LONDRES', 'INGLATERRA', 'ATENAS', 'GRÉCIA'), ('LONDRES', 'INGLATERRA', 'PEQUIM', 'CHINA'), ('LONDRES', 'INGLATERRA', 'BERLIM', 'ALEMANHA'), ('LONDRES', 'INGLATERRA', 'CAIRO', 'EGITO'), ('LONDRES', 'INGLATERRA', 'HAVANA', 'CUBA'), ('LONDRES', 'INGLATERRA', 'CABUL', 'AFEGANISTÃO'), ('MADRID', 'ESPANHA', 'MOSCOU', 'RÚSSIA'), ('MADRID', 'ESPANHA', 'OSLO', 'NORUEGA'), ('MADRID', 'ESPANHA', 'OTTAWA', 'CANADÁ'), ('MADRID', 'ESPANHA', 'PARIS', 'FRANÇA'), ('MADRID', 'ESPANHA', 'ROMA', 'ITÁLIA'), ('MADRID', 'ESPANHA', 'ESTOCOLMO', 'SUÉCIA'), ('MADRID', 'ESPANHA', 'TEERÃ', 'IRÃ'), ('MADRID', 'ESPANHA', 'TÓQUIO', 'JAPÃO'), ('MADRID', 'ESPANHA', 'ATENAS', 'GRÉCIA'), ('MADRID', 'ESPANHA', 'BAGDÁ', 'IRAQUE'), ('MADRID', 'ESPANHA', 'PEQUIM', 'CHINA'), ('MADRID', 'ESPANHA', 'BERLIM', 'ALEMANHA'), ('MADRID', 'ESPANHA', 'CAIRO', 'EGITO'), ('MADRID', 'ESPANHA', 'HAVANA', 'CUBA'), ('MADRID', 'ESPANHA', 'CABUL', 'AFEGANISTÃO'), ('MOSCOU', 'RÚSSIA', 'OSLO', 'NORUEGA'), ('MOSCOU', 'RÚSSIA', 'OTTAWA', 'CANADÁ'), ('MOSCOU', 'RÚSSIA', 'PARIS', 'FRANÇA'), ('MOSCOU', 'RÚSSIA', 'ROMA', 'ITÁLIA'), ('MOSCOU', 'RÚSSIA', 'ESTOCOLMO', 'SUÉCIA'), ('MOSCOU', 'RÚSSIA', 'TEERÃ', 'IRÃ'), ('MOSCOU', 'RÚSSIA', 'TÓQUIO', 'JAPÃO'), ('MOSCOU', 'RÚSSIA', 'ATENAS', 'GRÉCIA'), ('MOSCOU', 'RÚSSIA', 'BAGDÁ', 'IRAQUE'), ('MOSCOU', 'RÚSSIA', 'PEQUIM', 'CHINA'), ('MOSCOU', 'RÚSSIA', 'BERLIM', 'ALEMANHA'), ('MOSCOU', 'RÚSSIA', 'HAVANA', 'CUBA'), ('MOSCOU', 'RÚSSIA', 'CABUL', 'AFEGANISTÃO'), ('MOSCOU', 'RÚSSIA', 'MADRID', 'ESPANHA'), ('OSLO', 'NORUEGA', 'OTTAWA', 'CANADÁ'), ('OSLO', 'NORUEGA', 'PARIS', 'FRANÇA'), ('OSLO', 'NORUEGA', 'ROMA', 'ITÁLIA'), ('OSLO', 'NORUEGA', 'ESTOCOLMO', 'SUÉCIA'), ('OSLO', 'NORUEGA', 'TEERÃ', 'IRÃ'), ('OSLO', 'NORUEGA', 'TÓQUIO', 'JAPÃO'), ('OSLO', 'NORUEGA', 'ATENAS', 'GRÉCIA'), ('OSLO', 'NORUEGA', 'PEQUIM', 'CHINA'), ('OSLO', 'NORUEGA', 'BERLIM', 'ALEMANHA'), ('OSLO', 'NORUEGA', 'CAIRO', 'EGITO'), ('OSLO', 'NORUEGA', 'HAVANA', 'CUBA'), ('OSLO', 'NORUEGA', 'CABUL', 'AFEGANISTÃO'), ('OSLO', 'NORUEGA', 'LONDRES', 'INGLATERRA'), ('OSLO', 'NORUEGA', 'MADRID', 'ESPANHA'), ('OSLO', 'NORUEGA', 'MOSCOU', 'RÚSSIA'), ('OTTAWA', 'CANADÁ', 'PARIS', 'FRANÇA'), ('OTTAWA', 'CANADÁ', 'ROMA', 'ITÁLIA'), ('OTTAWA', 'CANADÁ', 'ESTOCOLMO', 'SUÉCIA'), ('OTTAWA', 'CANADÁ', 'TEERÃ', 'IRÃ'), ('OTTAWA', 'CANADÁ', 'TÓQUIO', 'JAPÃO'), ('OTTAWA', 'CANADÁ', 'ATENAS', 'GRÉCIA'), ('OTTAWA', 'CANADÁ', 'BAGDÁ', 'IRAQUE'), ('OTTAWA', 'CANADÁ', 'PEQUIM', 'CHINA'), ('OTTAWA', 'CANADÁ', 'BERLIM', 'ALEMANHA'), ('OTTAWA', 'CANADÁ', 'HAVANA', 'CUBA'), ('OTTAWA', 'CANADÁ', 'CABUL', 'AFEGANISTÃO'), ('OTTAWA', 'CANADÁ', 'MADRID', 'ESPANHA'), ('OTTAWA', 'CANADÁ', 'MOSCOU', 'RÚSSIA'), ('OTTAWA', 'CANADÁ', 'OSLO', 'NORUEGA'), ('PARIS', 'FRANÇA', 'ROMA', 'ITÁLIA'), ('PARIS', 'FRANÇA', 'ESTOCOLMO', 'SUÉCIA'), ('PARIS', 'FRANÇA', 'TEERÃ', 'IRÃ'), ('PARIS', 'FRANÇA', 'TÓQUIO', 'JAPÃO'), ('PARIS', 'FRANÇA', 'ATENAS', 'GRÉCIA'), ('PARIS', 'FRANÇA', 'BAGDÁ', 'IRAQUE'), ('PARIS', 'FRANÇA', 'PEQUIM', 'CHINA'), ('PARIS', 'FRANÇA', 'BERLIM', 'ALEMANHA'), ('PARIS', 'FRANÇA', 'BERNA', 'SUÍÇA'), ('PARIS', 'FRANÇA', 'CAIRO', 'EGITO'), ('PARIS', 'FRANÇA', 'HAVANA', 'CUBA'), ('PARIS', 'FRANÇA', 'CABUL', 'AFEGANISTÃO'), ('PARIS', 'FRANÇA', 'MADRID', 'ESPANHA'), ('PARIS', 'FRANÇA', 'MOSCOU', 'RÚSSIA'), ('PARIS', 'FRANÇA', 'OSLO', 'NORUEGA'), ('PARIS', 'FRANÇA', 'OTTAWA', 'CANADÁ'), ('ROMA', 'ITÁLIA', 'ESTOCOLMO', 'SUÉCIA'), ('ROMA', 'ITÁLIA', 'TEERÃ', 'IRÃ'), ('ROMA', 'ITÁLIA', 'TÓQUIO', 'JAPÃO'), ('ROMA', 'ITÁLIA', 'ATENAS', 'GRÉCIA'), ('ROMA', 'ITÁLIA', 'BAGDÁ', 'IRAQUE'), ('ROMA', 'ITÁLIA', 'PEQUIM', 'CHINA'), ('ROMA', 'ITÁLIA', 'BERLIM', 'ALEMANHA'), ('ROMA', 'ITÁLIA', 'HAVANA', 'CUBA'), ('ROMA', 'ITÁLIA', 'CABUL', 'AFEGANISTÃO'), ('ROMA', 'ITÁLIA', 'MADRID', 'ESPANHA'), ('ROMA', 'ITÁLIA', 'MOSCOU', 'RÚSSIA'), ('ROMA', 'ITÁLIA', 'OSLO', 'NORUEGA'), ('ROMA', 'ITÁLIA', 'OTTAWA', 'CANADÁ'), ('ROMA', 'ITÁLIA', 'PARIS', 'FRANÇA'), ('ESTOCOLMO', 'SUÉCIA', 'TEERÃ', 'IRÃ'), ('ESTOCOLMO', 'SUÉCIA', 'TÓQUIO', 'JAPÃO'), ('ESTOCOLMO', 'SUÉCIA', 'ATENAS', 'GRÉCIA'), ('ESTOCOLMO', 'SUÉCIA', 'BAGDÁ', 'IRAQUE'), ('ESTOCOLMO', 'SUÉCIA', 'PEQUIM', 'CHINA'), ('ESTOCOLMO', 'SUÉCIA', 'BERLIM', 'ALEMANHA'), ('ESTOCOLMO', 'SUÉCIA', 'CAIRO', 'EGITO'), ('ESTOCOLMO', 'SUÉCIA', 'HAVANA', 'CUBA'), ('ESTOCOLMO', 'SUÉCIA', 'CABUL', 'AFEGANISTÃO'), ('ESTOCOLMO', 'SUÉCIA', 'LONDRES', 'INGLATERRA'), ('ESTOCOLMO', 'SUÉCIA', 'MADRID', 'ESPANHA'), ('ESTOCOLMO', 'SUÉCIA', 'MOSCOU', 'RÚSSIA'), ('ESTOCOLMO', 'SUÉCIA', 'OSLO', 'NORUEGA'), ('ESTOCOLMO', 'SUÉCIA', 'OTTAWA', 'CANADÁ'), ('ESTOCOLMO', 'SUÉCIA', 'PARIS', 'FRANÇA'), ('ESTOCOLMO', 'SUÉCIA', 'ROMA', 'ITÁLIA'), ('TEERÃ', 'IRÃ', 'TÓQUIO', 'JAPÃO'), ('TEERÃ', 'IRÃ', 'ATENAS', 'GRÉCIA'), ('TEERÃ', 'IRÃ', 'BAGDÁ', 'IRAQUE'), ('TEERÃ', 'IRÃ', 'PEQUIM', 'CHINA'), ('TEERÃ', 'IRÃ', 'BERLIM', 'ALEMANHA'), ('TEERÃ', 'IRÃ', 'BERNA', 'SUÍÇA'), ('TEERÃ', 'IRÃ', 'CAIRO', 'EGITO'), ('TEERÃ', 'IRÃ', 'HAVANA', 'CUBA'), ('TEERÃ', 'IRÃ', 'CABUL', 'AFEGANISTÃO'), ('TEERÃ', 'IRÃ', 'MOSCOU', 'RÚSSIA'), ('TEERÃ', 'IRÃ', 'OSLO', 'NORUEGA'), ('TEERÃ', 'IRÃ', 'OTTAWA', 'CANADÁ'), ('TEERÃ', 'IRÃ', 'PARIS', 'FRANÇA'), ('TEERÃ', 'IRÃ', 'ROMA', 'ITÁLIA'), ('TEERÃ', 'IRÃ', 'ESTOCOLMO', 'SUÉCIA'), ('TÓQUIO', 'JAPÃO', 'ATENAS', 'GRÉCIA'), ('TÓQUIO', 'JAPÃO', 'BAGDÁ', 'IRAQUE'), ('TÓQUIO', 'JAPÃO', 'PEQUIM', 'CHINA'), ('TÓQUIO', 'JAPÃO', 'BERLIM', 'ALEMANHA'), ('TÓQUIO', 'JAPÃO', 'BERNA', 'SUÍÇA'), ('TÓQUIO', 'JAPÃO', 'CAIRO', 'EGITO'), ('TÓQUIO', 'JAPÃO', 'HAVANA', 'CUBA'), ('TÓQUIO', 'JAPÃO', 'CABUL', 'AFEGANISTÃO'), ('TÓQUIO', 'JAPÃO', 'LONDRES', 'INGLATERRA'), ('TÓQUIO', 'JAPÃO', 'MADRID', 'ESPANHA'), ('TÓQUIO', 'JAPÃO', 'MOSCOU', 'RÚSSIA'), ('TÓQUIO', 'JAPÃO', 'OSLO', 'NORUEGA'), ('TÓQUIO', 'JAPÃO', 'OTTAWA', 'CANADÁ'), ('TÓQUIO', 'JAPÃO', 'PARIS', 'FRANÇA'), ('TÓQUIO', 'JAPÃO', 'ROMA', 'ITÁLIA'), ('TÓQUIO', 'JAPÃO', 'ESTOCOLMO', 'SUÉCIA'), ('TÓQUIO', 'JAPÃO', 'TEERÃ', 'IRÃ')]\n",
      "../models/skip_s300fast.txt@../testsets/LX-4WAnalogiesBr.txt-0.8627450980392157%\n"
     ]
    }
   ],
   "source": [
    "modelsList = glob('../models/*fast.txt')\n",
    "testSet = glob('../testsets/*Analogies*')\n",
    "acc = {}\n",
    "for model in modelsList :\n",
    "    for test in testSet:        \n",
    "        acc_ratings = eval_analogy_accuracy(model,test)\n",
    "        acc[model+test] = acc_ratings\n",
    "        accuracy = acc_ratings[0] / (acc_ratings[0] + acc_ratings[1])\n",
    "        print(model + '@' + test + '-' + str(accuracy) + '%')"
   ]
  },
  {
   "cell_type": "code",
   "execution_count": 22,
   "metadata": {},
   "outputs": [],
   "source": [
    "modelsList = glob('../models/*fast.txt')\n",
    "model  =  getModel(modelsList[0])\n"
   ]
  },
  {
   "cell_type": "code",
   "execution_count": 28,
   "metadata": {},
   "outputs": [
    {
     "data": {
      "text/plain": [
       "[('seul', 0.6353664398193359),\n",
       " ('pequim-taipé', 0.6326602101325989),\n",
       " ('xangai', 0.6200852394104004),\n",
       " ('pequim-xangai', 0.6111860275268555),\n",
       " ('pequim-pyongyang', 0.6070454120635986),\n",
       " ('pequim-china', 0.6038728952407837),\n",
       " ('taipé', 0.5943089723587036),\n",
       " ('xiaoshuang', 0.5923561453819275),\n",
       " ('pequim.o', 0.590029239654541),\n",
       " ('xangai-china', 0.5886864066123962)]"
      ]
     },
     "execution_count": 28,
     "metadata": {},
     "output_type": "execute_result"
    }
   ],
   "source": [
    "model.most_similar(positive=['atenas','pequim'],negative=['grécia'])"
   ]
  },
  {
   "cell_type": "code",
   "execution_count": 29,
   "metadata": {},
   "outputs": [
    {
     "data": {
      "text/plain": [
       "[('pequim', 0.8225739002227783),\n",
       " ('xangai-china', 0.7064758539199829),\n",
       " ('tianjing', 0.699294924736023),\n",
       " ('shenzhen-china', 0.689010500907898),\n",
       " ('zhongzhou', 0.6873874664306641),\n",
       " ('zhendong', 0.6834413409233093),\n",
       " ('chinesa', 0.6772347688674927),\n",
       " ('zhongjing', 0.6769419312477112),\n",
       " ('xangai', 0.6768250465393066),\n",
       " ('zhongyang', 0.6758601665496826)]"
      ]
     },
     "execution_count": 29,
     "metadata": {},
     "output_type": "execute_result"
    }
   ],
   "source": [
    "model.most_similar(positive=['atenas','china'],negative=['grécia'])"
   ]
  },
  {
   "cell_type": "code",
   "execution_count": 30,
   "metadata": {},
   "outputs": [
    {
     "data": {
      "text/plain": [
       "[('coreia', 0.6270121335983276),\n",
       " ('taiwan', 0.621976375579834),\n",
       " ('tailândia', 0.6031404137611389),\n",
       " ('china.', 0.5803037881851196),\n",
       " ('coréia', 0.558039665222168),\n",
       " ('japão', 0.5508037209510803),\n",
       " ('china-taiwan', 0.550620436668396),\n",
       " ('índia', 0.5471624135971069),\n",
       " ('malásia', 0.5458478927612305),\n",
       " ('rússia', 0.5385729670524597)]"
      ]
     },
     "execution_count": 30,
     "metadata": {},
     "output_type": "execute_result"
    }
   ],
   "source": [
    "model.most_similar(positive=['grécia','china'],negative=['atenas'])"
   ]
  },
  {
   "cell_type": "code",
   "execution_count": 31,
   "metadata": {},
   "outputs": [
    {
     "data": {
      "text/plain": [
       "[('china', 0.7808929681777954),\n",
       " ('taiwan', 0.658018171787262),\n",
       " ('pequim-pyongyang', 0.6476016044616699),\n",
       " ('coreia', 0.6296229958534241),\n",
       " ('pequim-china', 0.609553337097168),\n",
       " ('china-taiwan', 0.6077865362167358),\n",
       " ('indonésia', 0.6074162721633911),\n",
       " ('pequim-taipé', 0.6063328385353088),\n",
       " ('tibete', 0.6040211915969849),\n",
       " ('china.', 0.5988819599151611)]"
      ]
     },
     "execution_count": 31,
     "metadata": {},
     "output_type": "execute_result"
    }
   ],
   "source": [
    "model.most_similar(positive=['grécia','pequim'],negative=['atenas'])"
   ]
  },
  {
   "cell_type": "code",
   "execution_count": 19,
   "metadata": {},
   "outputs": [
    {
     "ename": "ValueError",
     "evalue": "missing section header before line #0 in ../testsets/LX-WordSim-353.txt",
     "output_type": "error",
     "traceback": [
      "\u001b[0;31m---------------------------------------------------------------------------\u001b[0m",
      "\u001b[0;31mValueError\u001b[0m                                Traceback (most recent call last)",
      "\u001b[0;32m<ipython-input-19-5548c8dadcfa>\u001b[0m in \u001b[0;36m<module>\u001b[0;34m\u001b[0m\n\u001b[1;32m      4\u001b[0m \u001b[0;32mfor\u001b[0m \u001b[0mmodel\u001b[0m \u001b[0;32min\u001b[0m \u001b[0mmodelsList\u001b[0m \u001b[0;34m:\u001b[0m\u001b[0;34m\u001b[0m\u001b[0;34m\u001b[0m\u001b[0m\n\u001b[1;32m      5\u001b[0m     \u001b[0;32mfor\u001b[0m \u001b[0mtest\u001b[0m \u001b[0;32min\u001b[0m \u001b[0mtestSet\u001b[0m\u001b[0;34m:\u001b[0m\u001b[0;34m\u001b[0m\u001b[0;34m\u001b[0m\u001b[0m\n\u001b[0;32m----> 6\u001b[0;31m         \u001b[0macc_ratings\u001b[0m \u001b[0;34m=\u001b[0m \u001b[0meval_analogy_accuracy\u001b[0m\u001b[0;34m(\u001b[0m\u001b[0mmodel\u001b[0m\u001b[0;34m,\u001b[0m\u001b[0mtest\u001b[0m\u001b[0;34m)\u001b[0m\u001b[0;34m\u001b[0m\u001b[0;34m\u001b[0m\u001b[0m\n\u001b[0m\u001b[1;32m      7\u001b[0m         \u001b[0macc\u001b[0m\u001b[0;34m[\u001b[0m\u001b[0mmodel\u001b[0m\u001b[0;34m+\u001b[0m\u001b[0mtest\u001b[0m\u001b[0;34m]\u001b[0m \u001b[0;34m=\u001b[0m \u001b[0macc_ratings\u001b[0m\u001b[0;34m\u001b[0m\u001b[0;34m\u001b[0m\u001b[0m\n\u001b[1;32m      8\u001b[0m         \u001b[0maccuracy\u001b[0m \u001b[0;34m=\u001b[0m \u001b[0macc_ratings\u001b[0m\u001b[0;34m[\u001b[0m\u001b[0;36m0\u001b[0m\u001b[0;34m]\u001b[0m \u001b[0;34m/\u001b[0m \u001b[0;34m(\u001b[0m\u001b[0macc_ratings\u001b[0m\u001b[0;34m[\u001b[0m\u001b[0;36m0\u001b[0m\u001b[0;34m]\u001b[0m \u001b[0;34m+\u001b[0m \u001b[0macc_ratings\u001b[0m\u001b[0;34m[\u001b[0m\u001b[0;36m1\u001b[0m\u001b[0;34m]\u001b[0m\u001b[0;34m)\u001b[0m\u001b[0;34m\u001b[0m\u001b[0;34m\u001b[0m\u001b[0m\n",
      "\u001b[0;32m<ipython-input-15-9853c20e3e4e>\u001b[0m in \u001b[0;36meval_analogy_accuracy\u001b[0;34m(modelRef, testSet)\u001b[0m\n\u001b[1;32m      1\u001b[0m \u001b[0;32mdef\u001b[0m \u001b[0meval_analogy_accuracy\u001b[0m\u001b[0;34m(\u001b[0m\u001b[0mmodelRef\u001b[0m\u001b[0;34m,\u001b[0m \u001b[0mtestSet\u001b[0m\u001b[0;34m)\u001b[0m\u001b[0;34m:\u001b[0m\u001b[0;34m\u001b[0m\u001b[0;34m\u001b[0m\u001b[0m\n\u001b[1;32m      2\u001b[0m     \u001b[0mmodel\u001b[0m \u001b[0;34m=\u001b[0m \u001b[0mgetModel\u001b[0m\u001b[0;34m(\u001b[0m\u001b[0mmodelRef\u001b[0m\u001b[0;34m)\u001b[0m\u001b[0;34m\u001b[0m\u001b[0;34m\u001b[0m\u001b[0m\n\u001b[0;32m----> 3\u001b[0;31m     \u001b[0macc\u001b[0m \u001b[0;34m=\u001b[0m \u001b[0mmodel\u001b[0m\u001b[0;34m.\u001b[0m\u001b[0maccuracy\u001b[0m\u001b[0;34m(\u001b[0m\u001b[0mtestSet\u001b[0m\u001b[0;34m)\u001b[0m\u001b[0;34m\u001b[0m\u001b[0;34m\u001b[0m\u001b[0m\n\u001b[0m\u001b[1;32m      4\u001b[0m     \u001b[0mcorr\u001b[0m \u001b[0;34m=\u001b[0m \u001b[0mlen\u001b[0m\u001b[0;34m(\u001b[0m\u001b[0macc\u001b[0m\u001b[0;34m[\u001b[0m\u001b[0;36m0\u001b[0m\u001b[0;34m]\u001b[0m\u001b[0;34m[\u001b[0m\u001b[0;34m'correct'\u001b[0m\u001b[0;34m]\u001b[0m\u001b[0;34m)\u001b[0m\u001b[0;34m\u001b[0m\u001b[0;34m\u001b[0m\u001b[0m\n\u001b[1;32m      5\u001b[0m     \u001b[0mincorr\u001b[0m \u001b[0;34m=\u001b[0m \u001b[0mlen\u001b[0m\u001b[0;34m(\u001b[0m\u001b[0macc\u001b[0m\u001b[0;34m[\u001b[0m\u001b[0;36m0\u001b[0m\u001b[0;34m]\u001b[0m\u001b[0;34m[\u001b[0m\u001b[0;34m'incorrect'\u001b[0m\u001b[0;34m]\u001b[0m\u001b[0;34m)\u001b[0m\u001b[0;34m\u001b[0m\u001b[0;34m\u001b[0m\u001b[0m\n",
      "\u001b[0;32m~/.virtualenvs/ufrj/lib/python3.6/site-packages/gensim/models/keyedvectors.py\u001b[0m in \u001b[0;36maccuracy\u001b[0;34m(self, questions, restrict_vocab, most_similar, case_insensitive)\u001b[0m\n\u001b[1;32m    664\u001b[0m             \u001b[0;32melse\u001b[0m\u001b[0;34m:\u001b[0m\u001b[0;34m\u001b[0m\u001b[0;34m\u001b[0m\u001b[0m\n\u001b[1;32m    665\u001b[0m                 \u001b[0;32mif\u001b[0m \u001b[0;32mnot\u001b[0m \u001b[0msection\u001b[0m\u001b[0;34m:\u001b[0m\u001b[0;34m\u001b[0m\u001b[0;34m\u001b[0m\u001b[0m\n\u001b[0;32m--> 666\u001b[0;31m                     \u001b[0;32mraise\u001b[0m \u001b[0mValueError\u001b[0m\u001b[0;34m(\u001b[0m\u001b[0;34m\"missing section header before line #%i in %s\"\u001b[0m \u001b[0;34m%\u001b[0m \u001b[0;34m(\u001b[0m\u001b[0mline_no\u001b[0m\u001b[0;34m,\u001b[0m \u001b[0mquestions\u001b[0m\u001b[0;34m)\u001b[0m\u001b[0;34m)\u001b[0m\u001b[0;34m\u001b[0m\u001b[0;34m\u001b[0m\u001b[0m\n\u001b[0m\u001b[1;32m    667\u001b[0m                 \u001b[0;32mtry\u001b[0m\u001b[0;34m:\u001b[0m\u001b[0;34m\u001b[0m\u001b[0;34m\u001b[0m\u001b[0m\n\u001b[1;32m    668\u001b[0m                     \u001b[0;32mif\u001b[0m \u001b[0mcase_insensitive\u001b[0m\u001b[0;34m:\u001b[0m\u001b[0;34m\u001b[0m\u001b[0;34m\u001b[0m\u001b[0m\n",
      "\u001b[0;31mValueError\u001b[0m: missing section header before line #0 in ../testsets/LX-WordSim-353.txt"
     ]
    }
   ],
   "source": [
    "modelsList = glob('../models/*fast.txt')\n",
    "testSet = glob('../testsets/*.txt')\n",
    "acc = {}\n",
    "for model in modelsList :\n",
    "    for test in testSet:        \n",
    "        acc_ratings = eval_analogy_accuracy(model,test)\n",
    "        acc[model+test] = acc_ratings\n",
    "        accuracy = acc_ratings[0] / (acc_ratings[0] + acc_ratings[1])\n",
    "        print(model + '@' + test + '-' + str(accuracy) + '%')"
   ]
  },
  {
   "cell_type": "code",
   "execution_count": null,
   "metadata": {},
   "outputs": [],
   "source": []
  },
  {
   "cell_type": "markdown",
   "metadata": {},
   "source": [
    "# Referencia\n",
    "\n",
    "https://papers.nips.cc/paper/5021-distributed-representations-of-words-and-phrases-and-their-compositionality.pdf"
   ]
  }
 ],
 "metadata": {
  "kernelspec": {
   "display_name": "Python 3",
   "language": "python",
   "name": "python3"
  },
  "language_info": {
   "codemirror_mode": {
    "name": "ipython",
    "version": 3
   },
   "file_extension": ".py",
   "mimetype": "text/x-python",
   "name": "python",
   "nbconvert_exporter": "python",
   "pygments_lexer": "ipython3",
   "version": "3.6.7"
  }
 },
 "nbformat": 4,
 "nbformat_minor": 2
}
