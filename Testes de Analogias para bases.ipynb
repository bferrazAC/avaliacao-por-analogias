{
 "cells": [
  {
   "cell_type": "code",
   "execution_count": 1,
   "metadata": {},
   "outputs": [],
   "source": [
    "from gensim.models import KeyedVectors\n",
    "from sklearn.metrics.pairwise import cosine_similarity\n",
    "import numpy as np\n",
    "from glob import glob\n"
   ]
  },
  {
   "cell_type": "code",
   "execution_count": 2,
   "metadata": {},
   "outputs": [],
   "source": [
    "def getModel(modelFile):\n",
    "    model = KeyedVectors.load_word2vec_format(modelFile)\n",
    "    return model\n",
    "\n",
    "# https://datascience-enthusiast.com/DL/Operations_on_word_vectors.html\n",
    "def similar_cos(u, v):\n",
    "    distance = 0.0\n",
    "\n",
    "    # Compute the dot product between u and v (≈1 line)\n",
    "    dot = np.dot(u, v)\n",
    "    # Compute the L2 norm of u (≈1 line)\n",
    "#     norm_u = np.sqrt(np.sum(u**2))\n",
    "    norm_u = np.linalg.norm(u)\n",
    "    \n",
    "    # Compute the L2 norm of v (≈1 line)\n",
    "#     norm_v = np.sqrt(np.sum(v**2))\n",
    "    norm_v = np.linalg.norm(v)\n",
    "    \n",
    "    # Compute the cosine similarity defined by formula (1) (≈1 line)\n",
    "    cosine_similarity = dot / (norm_u * norm_v)\n",
    "\n",
    "    return cosine_similarity\n",
    "\n",
    "def extract_relation(target, related):\n",
    "    return target - related\n",
    "\n",
    "def find_best_related_word(analogy_vector, model):\n",
    "#     related = target + relation\n",
    "    max_sim = 0.0\n",
    "    best_word = None\n",
    "    for word in model.vocab:\n",
    "#         relation1 = relation.reshape(1,-1)\n",
    "#         relation2 = extract_relation(model.word_vec(target), model.word_vec(word)).reshape(1,-1)\n",
    "        sim = similar_cos(analogy_vector, model[word])\n",
    "        if(sim > max_sim):\n",
    "            best_word = word\n",
    "    \n",
    "    return best_word;\n",
    "    "
   ]
  },
  {
   "cell_type": "code",
   "execution_count": 3,
   "metadata": {},
   "outputs": [],
   "source": [
    "def processTriadAnalogy(word1,word2,word3, modelsList):\n",
    "    result = []\n",
    "    for modelFileRef in modelsList:\n",
    "        model = getModel(modelFileRef)\n",
    "        if(word1 in model and word2 in model and word3 in model):\n",
    "            \n",
    "            v_word1 = model.word_vec(word1)\n",
    "            v_word2 = model.word_vec(word2)\n",
    "            v_word3 = model.word_vec(word3)\n",
    "    #         basisRelation = extract_relation(v_word1, v_word2)\n",
    "            basisRelation = v_word1 - v_word2 + v_word3\n",
    "            bestWordOnModel = find_best_related_word(basisRelation, model)\n",
    "            result.append('Model: ' + modelFileRef + '/n Best Word : ' + bestWordOnModel)\n",
    "        else:\n",
    "            print('Fail:Word not found in model')\n",
    "    return result\n",
    "            "
   ]
  },
  {
   "cell_type": "code",
   "execution_count": 4,
   "metadata": {},
   "outputs": [],
   "source": [
    "# result = processTriadAnalogy(word1,word2,word3,modelsList)"
   ]
  },
  {
   "cell_type": "markdown",
   "metadata": {},
   "source": [
    "- Teste 1 - Biblioteca KeyedVector e seus metodos de similaridade"
   ]
  },
  {
   "cell_type": "code",
   "execution_count": 4,
   "metadata": {},
   "outputs": [
    {
     "name": "stdout",
     "output_type": "stream",
     "text": [
      "['../models/cbow_s300.txt', '../models/cbow_s100.txt', '../models/cbow_s50.txt']\n"
     ]
    }
   ],
   "source": [
    "modelsList = glob('../models/cbow_*.txt')\n",
    "model = [getModel(x) for x in modelsList]\n",
    "\n",
    "print(modelsList)\n"
   ]
  },
  {
   "cell_type": "code",
   "execution_count": 8,
   "metadata": {},
   "outputs": [
    {
     "name": "stdout",
     "output_type": "stream",
     "text": [
      "../models/cbow_s300.txt [('princesa', 0.5880060791969299), ('infanta', 0.5544092655181885), ('rainha-mãe', 0.5047087669372559), ('ex-rainha', 0.5002995729446411), ('imperatriz', 0.4982605278491974), ('raínha', 0.498224675655365), ('rainha-consorte', 0.4923296570777893), ('duquesa', 0.4890612065792084), ('condessa', 0.4880494177341461), ('regente', 0.460879385471344)]\n",
      "Positive:   rei rainha \n",
      "Negative: homem\n",
      "\n",
      "../models/cbow_s100.txt [('raínha', 0.6748343706130981), ('princesa', 0.6687842607498169), ('rainha-consorte', 0.6617846488952637), ('rainha-mãe', 0.6472653746604919), ('duquesa', 0.6418556571006775), ('pártia', 0.6328529119491577), ('imperatriz', 0.628162682056427), ('primogénita', 0.6190635561943054), ('condessa', 0.6179429292678833), ('coroação', 0.6084483861923218)]\n",
      "Positive:   rei rainha \n",
      "Negative: homem\n",
      "\n",
      "../models/cbow_s50.txt [('duquesa', 0.7385571002960205), ('princesa', 0.724755048751831), ('grã-duquesa', 0.7228216528892517), ('imperatriz', 0.7180843949317932), ('rainha-consorte', 0.7107272744178772), ('ex-rainha', 0.7102654576301575), ('dinastia', 0.7076348066329956), ('herdeira', 0.7072440981864929), ('czarina', 0.7034566402435303), ('sibila', 0.6953685283660889)]\n",
      "Positive:   rei rainha \n",
      "Negative: homem\n",
      "\n"
     ]
    }
   ],
   "source": [
    "word1 = 'rei'\n",
    "word2 = 'homem'\n",
    "word3 = 'rainha'\n",
    "\n",
    "for index, x in enumerate(model):\n",
    "    nMostSimilar = x.most_similar(positive=[word1,word3], negative=[word2])\n",
    "\n",
    "    print(modelsList[index], nMostSimilar)\n",
    "    print('Positive:  ', word1,word3, '\\nNegative:',word2)\n",
    "    print()"
   ]
  },
  {
   "cell_type": "code",
   "execution_count": null,
   "metadata": {
    "scrolled": true
   },
   "outputs": [],
   "source": [
    "word1 = 'rei'\n",
    "word2 = 'homem'\n",
    "word3 = 'mulher'\n",
    "\n",
    "listm = [modelsList[0]]\n",
    "\n",
    "result = processTriadAnalogy(word1, word2, word3, listm)"
   ]
  },
  {
   "cell_type": "markdown",
   "metadata": {},
   "source": [
    "Troca de Palavras "
   ]
  },
  {
   "cell_type": "code",
   "execution_count": 13,
   "metadata": {},
   "outputs": [],
   "source": [
    "word1 = 'rei'\n",
    "word2 = 'homem'\n",
    "word3 = 'mulher'\n",
    "\n",
    "model = getModel(modelsList[2])\n",
    "\n",
    "list = model.most_similar(positive=[word1,word3], negative=[word2])"
   ]
  },
  {
   "cell_type": "code",
   "execution_count": 14,
   "metadata": {
    "scrolled": true
   },
   "outputs": [
    {
     "name": "stdout",
     "output_type": "stream",
     "text": [
      "../models/cbow_s100.txt [('esposa', 0.688875675201416), ('filha', 0.6741011142730713), ('governanta', 0.6724554896354675), ('sobrinha', 0.669994056224823), ('madrasta', 0.6670832633972168), ('concubina', 0.6659663915634155), ('dama-de-companhia', 0.6614803075790405), ('benção', 0.659320056438446), ('múmia', 0.6535747051239014), ('bênção', 0.6500141620635986)]\n",
      "Positive:   rei mulher \n",
      "Negative: homem\n"
     ]
    }
   ],
   "source": [
    "print(modelsList[2], list)\n",
    "print('Positive:  ', word1,word3, '\\nNegative:',word2)"
   ]
  },
  {
   "cell_type": "markdown",
   "metadata": {},
   "source": [
    "# Referencia\n",
    "\n",
    "https://papers.nips.cc/paper/5021-distributed-representations-of-words-and-phrases-and-their-compositionality.pdf"
   ]
  }
 ],
 "metadata": {
  "kernelspec": {
   "display_name": "Python 3",
   "language": "python",
   "name": "python3"
  },
  "language_info": {
   "codemirror_mode": {
    "name": "ipython",
    "version": 3
   },
   "file_extension": ".py",
   "mimetype": "text/x-python",
   "name": "python",
   "nbconvert_exporter": "python",
   "pygments_lexer": "ipython3",
   "version": "3.6.7"
  }
 },
 "nbformat": 4,
 "nbformat_minor": 2
}
