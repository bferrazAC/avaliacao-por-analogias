{
 "cells": [
  {
   "cell_type": "code",
   "execution_count": 1,
   "metadata": {},
   "outputs": [],
   "source": [
    "from gensim.models import KeyedVectors\n",
    "from sklearn.metrics.pairwise import cosine_similarity\n",
    "import numpy as np\n",
    "from glob import glob\n"
   ]
  },
  {
   "cell_type": "code",
   "execution_count": 2,
   "metadata": {},
   "outputs": [],
   "source": [
    "def getModel(modelFile):\n",
    "    model = KeyedVectors.load_word2vec_format(modelFile)\n",
    "    return model\n",
    "\n",
    "# https://datascience-enthusiast.com/DL/Operations_on_word_vectors.html\n",
    "def similar_cos(u, v):\n",
    "    distance = 0.0\n",
    "\n",
    "    # Compute the dot product between u and v (≈1 line)\n",
    "    dot = np.dot(u, v)\n",
    "    # Compute the L2 norm of u (≈1 line)\n",
    "#     norm_u = np.sqrt(np.sum(u**2))\n",
    "    norm_u = np.linalg.norm(u)\n",
    "    \n",
    "    # Compute the L2 norm of v (≈1 line)\n",
    "#     norm_v = np.sqrt(np.sum(v**2))\n",
    "    norm_v = np.linalg.norm(v)\n",
    "    \n",
    "    # Compute the cosine similarity defined by formula (1) (≈1 line)\n",
    "    cosine_similarity = dot / (norm_u * norm_v)\n",
    "\n",
    "    return cosine_similarity\n",
    "\n",
    "def extract_relation(target, related):\n",
    "    return target - related\n",
    "\n",
    "def find_best_related_word(analogy_vector, model):\n",
    "#     related = target + relation\n",
    "    max_sim = 0.0\n",
    "    best_word = None\n",
    "    for word in model.vocab:\n",
    "#         relation1 = relation.reshape(1,-1)\n",
    "#         relation2 = extract_relation(model.word_vec(target), model.word_vec(word)).reshape(1,-1)\n",
    "        sim = similar_cos(analogy_vector, model[word])\n",
    "        if(sim > max_sim):\n",
    "            best_word = word\n",
    "    \n",
    "    return best_word;\n",
    "    "
   ]
  },
  {
   "cell_type": "code",
   "execution_count": 3,
   "metadata": {},
   "outputs": [],
   "source": [
    "def processTriadAnalogy(word1,word2,word3, modelsList):\n",
    "    result = []\n",
    "    for modelFileRef in modelsList:\n",
    "        model = getModel(modelFileRef)\n",
    "        if(word1 in model and word2 in model and word3 in model):\n",
    "            \n",
    "            v_word1 = model.word_vec(word1)\n",
    "            v_word2 = model.word_vec(word2)\n",
    "            v_word3 = model.word_vec(word3)\n",
    "    #         basisRelation = extract_relation(v_word1, v_word2)\n",
    "            basisRelation = v_word1 - v_word2 + v_word3\n",
    "            bestWordOnModel = find_best_related_word(basisRelation, model)\n",
    "            result.append('Model: ' + modelFileRef + '/n Best Word : ' + bestWordOnModel)\n",
    "        else:\n",
    "            print('Fail:Word not found in model')\n",
    "    return result\n",
    "            "
   ]
  },
  {
   "cell_type": "code",
   "execution_count": 4,
   "metadata": {},
   "outputs": [],
   "source": [
    "# result = processTriadAnalogy(word1,word2,word3,modelsList)"
   ]
  },
  {
   "cell_type": "markdown",
   "metadata": {},
   "source": [
    "- Teste 1 - Biblioteca KeyedVector e seus metodos de similaridade"
   ]
  },
  {
   "cell_type": "code",
   "execution_count": 5,
   "metadata": {},
   "outputs": [
    {
     "name": "stdout",
     "output_type": "stream",
     "text": [
      "['../models/cbow_s300.txt', '../models/cbow_s100.txt', '../models/cbow_s50.txt']\n"
     ]
    }
   ],
   "source": [
    "modelsList = glob('../models/cbow_*.txt')\n",
    "model = [getModel(x) for x in modelsList]\n",
    "\n",
    "print(modelsList)\n"
   ]
  },
  {
   "cell_type": "code",
   "execution_count": 21,
   "metadata": {},
   "outputs": [
    {
     "data": {
      "text/plain": [
       "[('eisenhower', 0.47269853949546814),\n",
       " ('lula', 0.460972398519516),\n",
       " ('bush', 0.4601280987262726),\n",
       " ('ratsiraka', 0.43053072690963745),\n",
       " ('clinton', 0.4282917082309723),\n",
       " ('saakashvili', 0.4188674986362457),\n",
       " ('uribe', 0.4161287844181061),\n",
       " ('draghi', 0.40998852252960205),\n",
       " ('netanyahu', 0.403103768825531),\n",
       " ('yushchenko', 0.3994860053062439)]"
      ]
     },
     "execution_count": 21,
     "metadata": {},
     "output_type": "execute_result"
    }
   ],
   "source": [
    "model[0].most_similar(positive=['barack', 'obama'])"
   ]
  },
  {
   "cell_type": "code",
   "execution_count": null,
   "metadata": {},
   "outputs": [],
   "source": []
  },
  {
   "cell_type": "code",
   "execution_count": 8,
   "metadata": {},
   "outputs": [
    {
     "name": "stdout",
     "output_type": "stream",
     "text": [
      "../models/cbow_s300.txt [('princesa', 0.5880060791969299), ('infanta', 0.5544092655181885), ('rainha-mãe', 0.5047087669372559), ('ex-rainha', 0.5002995729446411), ('imperatriz', 0.4982605278491974), ('raínha', 0.498224675655365), ('rainha-consorte', 0.4923296570777893), ('duquesa', 0.4890612065792084), ('condessa', 0.4880494177341461), ('regente', 0.460879385471344)]\n",
      "Positive:   rei rainha \n",
      "Negative: homem\n",
      "\n",
      "../models/cbow_s100.txt [('raínha', 0.6748343706130981), ('princesa', 0.6687842607498169), ('rainha-consorte', 0.6617846488952637), ('rainha-mãe', 0.6472653746604919), ('duquesa', 0.6418556571006775), ('pártia', 0.6328529119491577), ('imperatriz', 0.628162682056427), ('primogénita', 0.6190635561943054), ('condessa', 0.6179429292678833), ('coroação', 0.6084483861923218)]\n",
      "Positive:   rei rainha \n",
      "Negative: homem\n",
      "\n",
      "../models/cbow_s50.txt [('duquesa', 0.7385571002960205), ('princesa', 0.724755048751831), ('grã-duquesa', 0.7228216528892517), ('imperatriz', 0.7180843949317932), ('rainha-consorte', 0.7107272744178772), ('ex-rainha', 0.7102654576301575), ('dinastia', 0.7076348066329956), ('herdeira', 0.7072440981864929), ('czarina', 0.7034566402435303), ('sibila', 0.6953685283660889)]\n",
      "Positive:   rei rainha \n",
      "Negative: homem\n",
      "\n"
     ]
    }
   ],
   "source": [
    "word1 = 'rei'\n",
    "word2 = 'homem'\n",
    "word3 = 'rainha'\n",
    "\n",
    "for index, x in enumerate(model):\n",
    "    nMostSimilar = x.most_similar(positive=[word1,word3], negative=[word2])\n",
    "\n",
    "    print(modelsList[index], nMostSimilar)\n",
    "    print('Positive:  ', word1,word3, '\\nNegative:',word2)\n",
    "    print()"
   ]
  },
  {
   "cell_type": "code",
   "execution_count": null,
   "metadata": {
    "scrolled": true
   },
   "outputs": [],
   "source": [
    "word1 = 'rei'\n",
    "word2 = 'homem'\n",
    "word3 = 'mulher'\n",
    "\n",
    "listm = [modelsList[0]]\n",
    "\n",
    "result = processTriadAnalogy(word1, word2, word3, listm)"
   ]
  },
  {
   "cell_type": "markdown",
   "metadata": {},
   "source": [
    "Troca de Palavras "
   ]
  },
  {
   "cell_type": "code",
   "execution_count": 13,
   "metadata": {},
   "outputs": [],
   "source": [
    "word1 = 'rei'\n",
    "word2 = 'homem'\n",
    "word3 = 'mulher'\n",
    "\n",
    "model = getModel(modelsList[2])\n",
    "\n",
    "list = model.most_similar(positive=[word1,word3], negative=[word2])"
   ]
  },
  {
   "cell_type": "code",
   "execution_count": 14,
   "metadata": {
    "scrolled": true
   },
   "outputs": [
    {
     "name": "stdout",
     "output_type": "stream",
     "text": [
      "../models/cbow_s100.txt [('esposa', 0.688875675201416), ('filha', 0.6741011142730713), ('governanta', 0.6724554896354675), ('sobrinha', 0.669994056224823), ('madrasta', 0.6670832633972168), ('concubina', 0.6659663915634155), ('dama-de-companhia', 0.6614803075790405), ('benção', 0.659320056438446), ('múmia', 0.6535747051239014), ('bênção', 0.6500141620635986)]\n",
      "Positive:   rei mulher \n",
      "Negative: homem\n"
     ]
    }
   ],
   "source": [
    "print(modelsList[2], list)\n",
    "print('Positive:  ', word1,word3, '\\nNegative:',word2)"
   ]
  },
  {
   "cell_type": "markdown",
   "metadata": {},
   "source": [
    "## Testando os métodos indicados pelo Paper - FastText 300 e  Glove 300"
   ]
  },
  {
   "cell_type": "code",
   "execution_count": 5,
   "metadata": {},
   "outputs": [],
   "source": [
    "models = []\n",
    "fast = '../models/skip_s300fast.txt'\n",
    "glove = '../models/glove_s300.txt'\n",
    "models.append(getModel(fast))\n",
    "models.append(getModel(glove))"
   ]
  },
  {
   "cell_type": "code",
   "execution_count": 6,
   "metadata": {},
   "outputs": [],
   "source": [
    "model = models[0]\n",
    "word1 = 'rei'\n",
    "word2 = 'homem'\n",
    "word3 = 'mulher'\n",
    "\n",
    "list = model.most_similar(positive=[word1,word3], negative=[word2])"
   ]
  },
  {
   "cell_type": "code",
   "execution_count": 8,
   "metadata": {},
   "outputs": [],
   "source": [
    "model = models[1]\n",
    "list2 = model.most_similar(positive=[word1,word3], negative=[word2])b"
   ]
  },
  {
   "cell_type": "code",
   "execution_count": 9,
   "metadata": {},
   "outputs": [
    {
     "name": "stdout",
     "output_type": "stream",
     "text": [
      "[('rainha', 0.7449502348899841), ('rainha-regente', 0.6796571016311646), ('princesa-regente', 0.6528101563453674), ('esposa', 0.6449019908905029), ('princesa', 0.6373282670974731), ('consorte', 0.6351529955863953), ('«rainha', 0.6276739835739136), ('filha', 0.6266849040985107), ('desposa', 0.6201632022857666), ('rainha-a', 0.6200650930404663)]\n",
      "[('rainha', 0.7193283438682556), ('filha', 0.6310628652572632), ('esposa', 0.627386212348938), ('princesa', 0.6068346500396729), ('isabel', 0.5972704887390137), ('irmã', 0.5631763935089111), ('consorte', 0.5383861064910889), ('trono', 0.5359665155410767), ('príncipe', 0.5172233581542969), ('joana', 0.5126430988311768)]\n"
     ]
    }
   ],
   "source": [
    "print(list)\n",
    "print(list2)"
   ]
  },
  {
   "cell_type": "code",
   "execution_count": 16,
   "metadata": {},
   "outputs": [
    {
     "data": {
      "text/plain": [
       "[('primeira-damas', 0.8656221628189087),\n",
       " ('barack', 0.8468867540359497),\n",
       " ('ex-primeira-dama', 0.7975351214408875),\n",
       " ('obamas', 0.762374997138977),\n",
       " ('clinton', 0.7279771566390991),\n",
       " ('obama.a', 0.7279264330863953),\n",
       " ('segunda-dama', 0.721454918384552),\n",
       " ('vice-primeira-dama', 0.7174794673919678),\n",
       " ('robama', 0.713536262512207),\n",
       " ('hillary', 0.7119442224502563)]"
      ]
     },
     "execution_count": 16,
     "metadata": {},
     "output_type": "execute_result"
    }
   ],
   "source": [
    "models[0].most_similar(positive=['primeira-dama','obama'])"
   ]
  },
  {
   "cell_type": "markdown",
   "metadata": {},
   "source": [
    "## Avaliando precisao dos modelos\n"
   ]
  },
  {
   "cell_type": "code",
   "execution_count": 20,
   "metadata": {},
   "outputs": [],
   "source": [
    "def eval_analogy_accuracy(modelRef, testSet):\n",
    "    model = getModel(modelRef)\n",
    "    acc = model.accuracy(testSet)\n",
    "    print(acc[0]['correct'])\n",
    "    corr = len(acc[0]['correct'])\n",
    "    incorr = len(acc[0]['incorrect'])\n",
    "    \n",
    "    return [corr, incorr]"
   ]
  },
  {
   "cell_type": "code",
   "execution_count": 21,
   "metadata": {},
   "outputs": [
    {
     "name": "stdout",
     "output_type": "stream",
     "text": [
      "[('ATENAS', 'GRÉCIA', 'PEQUIM', 'CHINA'), ('ATENAS', 'GRÉCIA', 'BERLIM', 'ALEMANHA'), ('ATENAS', 'GRÉCIA', 'CAIRO', 'EGITO'), ('ATENAS', 'GRÉCIA', 'HAVANA', 'CUBA'), ('ATENAS', 'GRÉCIA', 'HELSÍNQUIA', 'FINLÂNDIA'), ('ATENAS', 'GRÉCIA', 'LONDRES', 'INGLATERRA'), ('ATENAS', 'GRÉCIA', 'MADRID', 'ESPANHA'), ('ATENAS', 'GRÉCIA', 'MOSCOVO', 'RÚSSIA'), ('ATENAS', 'GRÉCIA', 'OSLO', 'NORUEGA'), ('ATENAS', 'GRÉCIA', 'OTTAWA', 'CANADÁ'), ('ATENAS', 'GRÉCIA', 'PARIS', 'FRANÇA'), ('ATENAS', 'GRÉCIA', 'ROMA', 'ITÁLIA'), ('ATENAS', 'GRÉCIA', 'ESTOCOLMO', 'SUÉCIA'), ('ATENAS', 'GRÉCIA', 'TÓQUIO', 'JAPÃO'), ('PEQUIM', 'CHINA', 'BERLIM', 'ALEMANHA'), ('PEQUIM', 'CHINA', 'CAIRO', 'EGITO'), ('PEQUIM', 'CHINA', 'HAVANA', 'CUBA'), ('PEQUIM', 'CHINA', 'HELSÍNQUIA', 'FINLÂNDIA'), ('PEQUIM', 'CHINA', 'LONDRES', 'INGLATERRA'), ('PEQUIM', 'CHINA', 'MOSCOVO', 'RÚSSIA'), ('PEQUIM', 'CHINA', 'OSLO', 'NORUEGA'), ('PEQUIM', 'CHINA', 'OTTAWA', 'CANADÁ'), ('PEQUIM', 'CHINA', 'PARIS', 'FRANÇA'), ('PEQUIM', 'CHINA', 'ROMA', 'ITÁLIA'), ('PEQUIM', 'CHINA', 'ESTOCOLMO', 'SUÉCIA'), ('PEQUIM', 'CHINA', 'TÓQUIO', 'JAPÃO'), ('PEQUIM', 'CHINA', 'ATENAS', 'GRÉCIA'), ('BERLIM', 'ALEMANHA', 'CAIRO', 'EGITO'), ('BERLIM', 'ALEMANHA', 'HAVANA', 'CUBA'), ('BERLIM', 'ALEMANHA', 'HELSÍNQUIA', 'FINLÂNDIA'), ('BERLIM', 'ALEMANHA', 'LONDRES', 'INGLATERRA'), ('BERLIM', 'ALEMANHA', 'MADRID', 'ESPANHA'), ('BERLIM', 'ALEMANHA', 'MOSCOVO', 'RÚSSIA'), ('BERLIM', 'ALEMANHA', 'OSLO', 'NORUEGA'), ('BERLIM', 'ALEMANHA', 'OTTAWA', 'CANADÁ'), ('BERLIM', 'ALEMANHA', 'PARIS', 'FRANÇA'), ('BERLIM', 'ALEMANHA', 'ROMA', 'ITÁLIA'), ('BERLIM', 'ALEMANHA', 'ESTOCOLMO', 'SUÉCIA'), ('BERLIM', 'ALEMANHA', 'TÓQUIO', 'JAPÃO'), ('BERLIM', 'ALEMANHA', 'ATENAS', 'GRÉCIA'), ('BERLIM', 'ALEMANHA', 'PEQUIM', 'CHINA'), ('BERNA', 'SUÍÇA', 'CAIRO', 'EGITO'), ('BERNA', 'SUÍÇA', 'HAVANA', 'CUBA'), ('BERNA', 'SUÍÇA', 'HELSÍNQUIA', 'FINLÂNDIA'), ('BERNA', 'SUÍÇA', 'LONDRES', 'INGLATERRA'), ('BERNA', 'SUÍÇA', 'MOSCOVO', 'RÚSSIA'), ('BERNA', 'SUÍÇA', 'OSLO', 'NORUEGA'), ('BERNA', 'SUÍÇA', 'OTTAWA', 'CANADÁ'), ('BERNA', 'SUÍÇA', 'PARIS', 'FRANÇA'), ('BERNA', 'SUÍÇA', 'ROMA', 'ITÁLIA'), ('BERNA', 'SUÍÇA', 'ESTOCOLMO', 'SUÉCIA'), ('BERNA', 'SUÍÇA', 'TÓQUIO', 'JAPÃO'), ('BERNA', 'SUÍÇA', 'ATENAS', 'GRÉCIA'), ('BERNA', 'SUÍÇA', 'PEQUIM', 'CHINA'), ('BERNA', 'SUÍÇA', 'BERLIM', 'ALEMANHA'), ('CAIRO', 'EGITO', 'HAVANA', 'CUBA'), ('CAIRO', 'EGITO', 'HELSÍNQUIA', 'FINLÂNDIA'), ('CAIRO', 'EGITO', 'LONDRES', 'INGLATERRA'), ('CAIRO', 'EGITO', 'MOSCOVO', 'RÚSSIA'), ('CAIRO', 'EGITO', 'OSLO', 'NORUEGA'), ('CAIRO', 'EGITO', 'OTTAWA', 'CANADÁ'), ('CAIRO', 'EGITO', 'PARIS', 'FRANÇA'), ('CAIRO', 'EGITO', 'ROMA', 'ITÁLIA'), ('CAIRO', 'EGITO', 'ESTOCOLMO', 'SUÉCIA'), ('CAIRO', 'EGITO', 'TÓQUIO', 'JAPÃO'), ('CAIRO', 'EGITO', 'ATENAS', 'GRÉCIA'), ('CAIRO', 'EGITO', 'PEQUIM', 'CHINA'), ('CAIRO', 'EGITO', 'BERLIM', 'ALEMANHA'), ('HAVANA', 'CUBA', 'HELSÍNQUIA', 'FINLÂNDIA'), ('HAVANA', 'CUBA', 'LONDRES', 'INGLATERRA'), ('HAVANA', 'CUBA', 'MOSCOVO', 'RÚSSIA'), ('HAVANA', 'CUBA', 'OSLO', 'NORUEGA'), ('HAVANA', 'CUBA', 'OTTAWA', 'CANADÁ'), ('HAVANA', 'CUBA', 'PARIS', 'FRANÇA'), ('HAVANA', 'CUBA', 'ROMA', 'ITÁLIA'), ('HAVANA', 'CUBA', 'TÓQUIO', 'JAPÃO'), ('HAVANA', 'CUBA', 'ATENAS', 'GRÉCIA'), ('HAVANA', 'CUBA', 'PEQUIM', 'CHINA'), ('HAVANA', 'CUBA', 'BERLIM', 'ALEMANHA'), ('HAVANA', 'CUBA', 'CAIRO', 'EGITO'), ('HELSÍNQUIA', 'FINLÂNDIA', 'LONDRES', 'INGLATERRA'), ('HELSÍNQUIA', 'FINLÂNDIA', 'MADRID', 'ESPANHA'), ('HELSÍNQUIA', 'FINLÂNDIA', 'MOSCOVO', 'RÚSSIA'), ('HELSÍNQUIA', 'FINLÂNDIA', 'OSLO', 'NORUEGA'), ('HELSÍNQUIA', 'FINLÂNDIA', 'OTTAWA', 'CANADÁ'), ('HELSÍNQUIA', 'FINLÂNDIA', 'PARIS', 'FRANÇA'), ('HELSÍNQUIA', 'FINLÂNDIA', 'ROMA', 'ITÁLIA'), ('HELSÍNQUIA', 'FINLÂNDIA', 'ESTOCOLMO', 'SUÉCIA'), ('HELSÍNQUIA', 'FINLÂNDIA', 'TÓQUIO', 'JAPÃO'), ('HELSÍNQUIA', 'FINLÂNDIA', 'ATENAS', 'GRÉCIA'), ('HELSÍNQUIA', 'FINLÂNDIA', 'PEQUIM', 'CHINA'), ('HELSÍNQUIA', 'FINLÂNDIA', 'BERLIM', 'ALEMANHA'), ('HELSÍNQUIA', 'FINLÂNDIA', 'CAIRO', 'EGITO'), ('HELSÍNQUIA', 'FINLÂNDIA', 'HAVANA', 'CUBA'), ('LONDRES', 'INGLATERRA', 'MOSCOVO', 'RÚSSIA'), ('LONDRES', 'INGLATERRA', 'OSLO', 'NORUEGA'), ('LONDRES', 'INGLATERRA', 'PARIS', 'FRANÇA'), ('LONDRES', 'INGLATERRA', 'ROMA', 'ITÁLIA'), ('LONDRES', 'INGLATERRA', 'ESTOCOLMO', 'SUÉCIA'), ('LONDRES', 'INGLATERRA', 'TÓQUIO', 'JAPÃO'), ('LONDRES', 'INGLATERRA', 'ATENAS', 'GRÉCIA'), ('LONDRES', 'INGLATERRA', 'PEQUIM', 'CHINA'), ('LONDRES', 'INGLATERRA', 'BERLIM', 'ALEMANHA'), ('LONDRES', 'INGLATERRA', 'CAIRO', 'EGITO'), ('LONDRES', 'INGLATERRA', 'HAVANA', 'CUBA'), ('LONDRES', 'INGLATERRA', 'HELSÍNQUIA', 'FINLÂNDIA'), ('MADRID', 'ESPANHA', 'MOSCOVO', 'RÚSSIA'), ('MADRID', 'ESPANHA', 'OSLO', 'NORUEGA'), ('MADRID', 'ESPANHA', 'OTTAWA', 'CANADÁ'), ('MADRID', 'ESPANHA', 'PARIS', 'FRANÇA'), ('MADRID', 'ESPANHA', 'ROMA', 'ITÁLIA'), ('MADRID', 'ESPANHA', 'ESTOCOLMO', 'SUÉCIA'), ('MADRID', 'ESPANHA', 'TÓQUIO', 'JAPÃO'), ('MADRID', 'ESPANHA', 'ATENAS', 'GRÉCIA'), ('MADRID', 'ESPANHA', 'PEQUIM', 'CHINA'), ('MADRID', 'ESPANHA', 'BERLIM', 'ALEMANHA'), ('MADRID', 'ESPANHA', 'CAIRO', 'EGITO'), ('MADRID', 'ESPANHA', 'HAVANA', 'CUBA'), ('MADRID', 'ESPANHA', 'HELSÍNQUIA', 'FINLÂNDIA'), ('MOSCOVO', 'RÚSSIA', 'OSLO', 'NORUEGA'), ('MOSCOVO', 'RÚSSIA', 'OTTAWA', 'CANADÁ'), ('MOSCOVO', 'RÚSSIA', 'PARIS', 'FRANÇA'), ('MOSCOVO', 'RÚSSIA', 'ROMA', 'ITÁLIA'), ('MOSCOVO', 'RÚSSIA', 'ESTOCOLMO', 'SUÉCIA'), ('MOSCOVO', 'RÚSSIA', 'TÓQUIO', 'JAPÃO'), ('MOSCOVO', 'RÚSSIA', 'ATENAS', 'GRÉCIA'), ('MOSCOVO', 'RÚSSIA', 'PEQUIM', 'CHINA'), ('MOSCOVO', 'RÚSSIA', 'BERLIM', 'ALEMANHA'), ('MOSCOVO', 'RÚSSIA', 'BERNA', 'SUÍÇA'), ('MOSCOVO', 'RÚSSIA', 'CAIRO', 'EGITO'), ('MOSCOVO', 'RÚSSIA', 'HAVANA', 'CUBA'), ('MOSCOVO', 'RÚSSIA', 'HELSÍNQUIA', 'FINLÂNDIA'), ('MOSCOVO', 'RÚSSIA', 'LONDRES', 'INGLATERRA'), ('OSLO', 'NORUEGA', 'OTTAWA', 'CANADÁ'), ('OSLO', 'NORUEGA', 'PARIS', 'FRANÇA'), ('OSLO', 'NORUEGA', 'ROMA', 'ITÁLIA'), ('OSLO', 'NORUEGA', 'ESTOCOLMO', 'SUÉCIA'), ('OSLO', 'NORUEGA', 'TÓQUIO', 'JAPÃO'), ('OSLO', 'NORUEGA', 'ATENAS', 'GRÉCIA'), ('OSLO', 'NORUEGA', 'PEQUIM', 'CHINA'), ('OSLO', 'NORUEGA', 'BERLIM', 'ALEMANHA'), ('OSLO', 'NORUEGA', 'CAIRO', 'EGITO'), ('OSLO', 'NORUEGA', 'HAVANA', 'CUBA'), ('OSLO', 'NORUEGA', 'HELSÍNQUIA', 'FINLÂNDIA'), ('OSLO', 'NORUEGA', 'LONDRES', 'INGLATERRA'), ('OSLO', 'NORUEGA', 'MADRID', 'ESPANHA'), ('OSLO', 'NORUEGA', 'MOSCOVO', 'RÚSSIA'), ('OTTAWA', 'CANADÁ', 'PARIS', 'FRANÇA'), ('OTTAWA', 'CANADÁ', 'ROMA', 'ITÁLIA'), ('OTTAWA', 'CANADÁ', 'ESTOCOLMO', 'SUÉCIA'), ('OTTAWA', 'CANADÁ', 'TÓQUIO', 'JAPÃO'), ('OTTAWA', 'CANADÁ', 'ATENAS', 'GRÉCIA'), ('OTTAWA', 'CANADÁ', 'PEQUIM', 'CHINA'), ('OTTAWA', 'CANADÁ', 'BERLIM', 'ALEMANHA'), ('OTTAWA', 'CANADÁ', 'HAVANA', 'CUBA'), ('OTTAWA', 'CANADÁ', 'HELSÍNQUIA', 'FINLÂNDIA'), ('OTTAWA', 'CANADÁ', 'MADRID', 'ESPANHA'), ('OTTAWA', 'CANADÁ', 'MOSCOVO', 'RÚSSIA'), ('OTTAWA', 'CANADÁ', 'OSLO', 'NORUEGA'), ('PARIS', 'FRANÇA', 'ROMA', 'ITÁLIA'), ('PARIS', 'FRANÇA', 'ESTOCOLMO', 'SUÉCIA'), ('PARIS', 'FRANÇA', 'TÓQUIO', 'JAPÃO'), ('PARIS', 'FRANÇA', 'ATENAS', 'GRÉCIA'), ('PARIS', 'FRANÇA', 'PEQUIM', 'CHINA'), ('PARIS', 'FRANÇA', 'BERLIM', 'ALEMANHA'), ('PARIS', 'FRANÇA', 'BERNA', 'SUÍÇA'), ('PARIS', 'FRANÇA', 'CAIRO', 'EGITO'), ('PARIS', 'FRANÇA', 'HAVANA', 'CUBA'), ('PARIS', 'FRANÇA', 'HELSÍNQUIA', 'FINLÂNDIA'), ('PARIS', 'FRANÇA', 'MADRID', 'ESPANHA'), ('PARIS', 'FRANÇA', 'MOSCOVO', 'RÚSSIA'), ('PARIS', 'FRANÇA', 'OSLO', 'NORUEGA'), ('PARIS', 'FRANÇA', 'OTTAWA', 'CANADÁ'), ('ROMA', 'ITÁLIA', 'ESTOCOLMO', 'SUÉCIA'), ('ROMA', 'ITÁLIA', 'TÓQUIO', 'JAPÃO'), ('ROMA', 'ITÁLIA', 'ATENAS', 'GRÉCIA'), ('ROMA', 'ITÁLIA', 'PEQUIM', 'CHINA'), ('ROMA', 'ITÁLIA', 'BERLIM', 'ALEMANHA'), ('ROMA', 'ITÁLIA', 'HAVANA', 'CUBA'), ('ROMA', 'ITÁLIA', 'HELSÍNQUIA', 'FINLÂNDIA'), ('ROMA', 'ITÁLIA', 'MADRID', 'ESPANHA'), ('ROMA', 'ITÁLIA', 'MOSCOVO', 'RÚSSIA'), ('ROMA', 'ITÁLIA', 'OSLO', 'NORUEGA'), ('ROMA', 'ITÁLIA', 'OTTAWA', 'CANADÁ'), ('ROMA', 'ITÁLIA', 'PARIS', 'FRANÇA'), ('ESTOCOLMO', 'SUÉCIA', 'TÓQUIO', 'JAPÃO'), ('ESTOCOLMO', 'SUÉCIA', 'ATENAS', 'GRÉCIA'), ('ESTOCOLMO', 'SUÉCIA', 'PEQUIM', 'CHINA'), ('ESTOCOLMO', 'SUÉCIA', 'BERLIM', 'ALEMANHA'), ('ESTOCOLMO', 'SUÉCIA', 'CAIRO', 'EGITO'), ('ESTOCOLMO', 'SUÉCIA', 'HAVANA', 'CUBA'), ('ESTOCOLMO', 'SUÉCIA', 'HELSÍNQUIA', 'FINLÂNDIA'), ('ESTOCOLMO', 'SUÉCIA', 'LONDRES', 'INGLATERRA'), ('ESTOCOLMO', 'SUÉCIA', 'MADRID', 'ESPANHA'), ('ESTOCOLMO', 'SUÉCIA', 'MOSCOVO', 'RÚSSIA'), ('ESTOCOLMO', 'SUÉCIA', 'OSLO', 'NORUEGA'), ('ESTOCOLMO', 'SUÉCIA', 'OTTAWA', 'CANADÁ'), ('ESTOCOLMO', 'SUÉCIA', 'PARIS', 'FRANÇA'), ('ESTOCOLMO', 'SUÉCIA', 'ROMA', 'ITÁLIA'), ('TÓQUIO', 'JAPÃO', 'ATENAS', 'GRÉCIA'), ('TÓQUIO', 'JAPÃO', 'PEQUIM', 'CHINA'), ('TÓQUIO', 'JAPÃO', 'BERLIM', 'ALEMANHA'), ('TÓQUIO', 'JAPÃO', 'BERNA', 'SUÍÇA'), ('TÓQUIO', 'JAPÃO', 'CAIRO', 'EGITO'), ('TÓQUIO', 'JAPÃO', 'HAVANA', 'CUBA'), ('TÓQUIO', 'JAPÃO', 'HELSÍNQUIA', 'FINLÂNDIA'), ('TÓQUIO', 'JAPÃO', 'LONDRES', 'INGLATERRA'), ('TÓQUIO', 'JAPÃO', 'MADRID', 'ESPANHA'), ('TÓQUIO', 'JAPÃO', 'MOSCOVO', 'RÚSSIA'), ('TÓQUIO', 'JAPÃO', 'OSLO', 'NORUEGA'), ('TÓQUIO', 'JAPÃO', 'OTTAWA', 'CANADÁ'), ('TÓQUIO', 'JAPÃO', 'PARIS', 'FRANÇA'), ('TÓQUIO', 'JAPÃO', 'ROMA', 'ITÁLIA'), ('TÓQUIO', 'JAPÃO', 'ESTOCOLMO', 'SUÉCIA')]\n",
      "../models/skip_s300fast.txt@../testsets/LX-4WAnalogies.txt-0.7867647058823529%\n"
     ]
    },
    {
     "name": "stdout",
     "output_type": "stream",
     "text": [
      "[('ATENAS', 'GRÉCIA', 'BAGDÁ', 'IRAQUE'), ('ATENAS', 'GRÉCIA', 'PEQUIM', 'CHINA'), ('ATENAS', 'GRÉCIA', 'BERLIM', 'ALEMANHA'), ('ATENAS', 'GRÉCIA', 'CAIRO', 'EGITO'), ('ATENAS', 'GRÉCIA', 'HAVANA', 'CUBA'), ('ATENAS', 'GRÉCIA', 'CABUL', 'AFEGANISTÃO'), ('ATENAS', 'GRÉCIA', 'LONDRES', 'INGLATERRA'), ('ATENAS', 'GRÉCIA', 'MADRID', 'ESPANHA'), ('ATENAS', 'GRÉCIA', 'MOSCOU', 'RÚSSIA'), ('ATENAS', 'GRÉCIA', 'OSLO', 'NORUEGA'), ('ATENAS', 'GRÉCIA', 'OTTAWA', 'CANADÁ'), ('ATENAS', 'GRÉCIA', 'PARIS', 'FRANÇA'), ('ATENAS', 'GRÉCIA', 'ROMA', 'ITÁLIA'), ('ATENAS', 'GRÉCIA', 'ESTOCOLMO', 'SUÉCIA'), ('ATENAS', 'GRÉCIA', 'TEERÃ', 'IRÃ'), ('ATENAS', 'GRÉCIA', 'TÓQUIO', 'JAPÃO'), ('BAGDÁ', 'IRAQUE', 'PEQUIM', 'CHINA'), ('BAGDÁ', 'IRAQUE', 'BERLIM', 'ALEMANHA'), ('BAGDÁ', 'IRAQUE', 'HAVANA', 'CUBA'), ('BAGDÁ', 'IRAQUE', 'CABUL', 'AFEGANISTÃO'), ('BAGDÁ', 'IRAQUE', 'MOSCOU', 'RÚSSIA'), ('BAGDÁ', 'IRAQUE', 'OSLO', 'NORUEGA'), ('BAGDÁ', 'IRAQUE', 'OTTAWA', 'CANADÁ'), ('BAGDÁ', 'IRAQUE', 'PARIS', 'FRANÇA'), ('BAGDÁ', 'IRAQUE', 'ROMA', 'ITÁLIA'), ('BAGDÁ', 'IRAQUE', 'TEERÃ', 'IRÃ'), ('BAGDÁ', 'IRAQUE', 'TÓQUIO', 'JAPÃO'), ('BAGDÁ', 'IRAQUE', 'ATENAS', 'GRÉCIA'), ('PEQUIM', 'CHINA', 'BERLIM', 'ALEMANHA'), ('PEQUIM', 'CHINA', 'CAIRO', 'EGITO'), ('PEQUIM', 'CHINA', 'HAVANA', 'CUBA'), ('PEQUIM', 'CHINA', 'CABUL', 'AFEGANISTÃO'), ('PEQUIM', 'CHINA', 'LONDRES', 'INGLATERRA'), ('PEQUIM', 'CHINA', 'MOSCOU', 'RÚSSIA'), ('PEQUIM', 'CHINA', 'OSLO', 'NORUEGA'), ('PEQUIM', 'CHINA', 'OTTAWA', 'CANADÁ'), ('PEQUIM', 'CHINA', 'PARIS', 'FRANÇA'), ('PEQUIM', 'CHINA', 'ROMA', 'ITÁLIA'), ('PEQUIM', 'CHINA', 'ESTOCOLMO', 'SUÉCIA'), ('PEQUIM', 'CHINA', 'TEERÃ', 'IRÃ'), ('PEQUIM', 'CHINA', 'TÓQUIO', 'JAPÃO'), ('PEQUIM', 'CHINA', 'ATENAS', 'GRÉCIA'), ('PEQUIM', 'CHINA', 'BAGDÁ', 'IRAQUE'), ('BERLIM', 'ALEMANHA', 'CAIRO', 'EGITO'), ('BERLIM', 'ALEMANHA', 'HAVANA', 'CUBA'), ('BERLIM', 'ALEMANHA', 'CABUL', 'AFEGANISTÃO'), ('BERLIM', 'ALEMANHA', 'LONDRES', 'INGLATERRA'), ('BERLIM', 'ALEMANHA', 'MADRID', 'ESPANHA'), ('BERLIM', 'ALEMANHA', 'MOSCOU', 'RÚSSIA'), ('BERLIM', 'ALEMANHA', 'OSLO', 'NORUEGA'), ('BERLIM', 'ALEMANHA', 'OTTAWA', 'CANADÁ'), ('BERLIM', 'ALEMANHA', 'PARIS', 'FRANÇA'), ('BERLIM', 'ALEMANHA', 'ROMA', 'ITÁLIA'), ('BERLIM', 'ALEMANHA', 'ESTOCOLMO', 'SUÉCIA'), ('BERLIM', 'ALEMANHA', 'TEERÃ', 'IRÃ'), ('BERLIM', 'ALEMANHA', 'TÓQUIO', 'JAPÃO'), ('BERLIM', 'ALEMANHA', 'ATENAS', 'GRÉCIA'), ('BERLIM', 'ALEMANHA', 'BAGDÁ', 'IRAQUE'), ('BERLIM', 'ALEMANHA', 'PEQUIM', 'CHINA'), ('BERNA', 'SUÍÇA', 'CAIRO', 'EGITO'), ('BERNA', 'SUÍÇA', 'HAVANA', 'CUBA'), ('BERNA', 'SUÍÇA', 'CABUL', 'AFEGANISTÃO'), ('BERNA', 'SUÍÇA', 'LONDRES', 'INGLATERRA'), ('BERNA', 'SUÍÇA', 'MOSCOU', 'RÚSSIA'), ('BERNA', 'SUÍÇA', 'OSLO', 'NORUEGA'), ('BERNA', 'SUÍÇA', 'OTTAWA', 'CANADÁ'), ('BERNA', 'SUÍÇA', 'PARIS', 'FRANÇA'), ('BERNA', 'SUÍÇA', 'ROMA', 'ITÁLIA'), ('BERNA', 'SUÍÇA', 'ESTOCOLMO', 'SUÉCIA'), ('BERNA', 'SUÍÇA', 'TEERÃ', 'IRÃ'), ('BERNA', 'SUÍÇA', 'TÓQUIO', 'JAPÃO'), ('BERNA', 'SUÍÇA', 'ATENAS', 'GRÉCIA'), ('BERNA', 'SUÍÇA', 'PEQUIM', 'CHINA'), ('BERNA', 'SUÍÇA', 'BERLIM', 'ALEMANHA'), ('CAIRO', 'EGITO', 'HAVANA', 'CUBA'), ('CAIRO', 'EGITO', 'CABUL', 'AFEGANISTÃO'), ('CAIRO', 'EGITO', 'LONDRES', 'INGLATERRA'), ('CAIRO', 'EGITO', 'MOSCOU', 'RÚSSIA'), ('CAIRO', 'EGITO', 'OSLO', 'NORUEGA'), ('CAIRO', 'EGITO', 'OTTAWA', 'CANADÁ'), ('CAIRO', 'EGITO', 'PARIS', 'FRANÇA'), ('CAIRO', 'EGITO', 'ROMA', 'ITÁLIA'), ('CAIRO', 'EGITO', 'ESTOCOLMO', 'SUÉCIA'), ('CAIRO', 'EGITO', 'TEERÃ', 'IRÃ'), ('CAIRO', 'EGITO', 'TÓQUIO', 'JAPÃO'), ('CAIRO', 'EGITO', 'ATENAS', 'GRÉCIA'), ('CAIRO', 'EGITO', 'PEQUIM', 'CHINA'), ('CAIRO', 'EGITO', 'BERLIM', 'ALEMANHA'), ('HAVANA', 'CUBA', 'CABUL', 'AFEGANISTÃO'), ('HAVANA', 'CUBA', 'LONDRES', 'INGLATERRA'), ('HAVANA', 'CUBA', 'MOSCOU', 'RÚSSIA'), ('HAVANA', 'CUBA', 'OSLO', 'NORUEGA'), ('HAVANA', 'CUBA', 'OTTAWA', 'CANADÁ'), ('HAVANA', 'CUBA', 'PARIS', 'FRANÇA'), ('HAVANA', 'CUBA', 'ROMA', 'ITÁLIA'), ('HAVANA', 'CUBA', 'TEERÃ', 'IRÃ'), ('HAVANA', 'CUBA', 'TÓQUIO', 'JAPÃO'), ('HAVANA', 'CUBA', 'ATENAS', 'GRÉCIA'), ('HAVANA', 'CUBA', 'BAGDÁ', 'IRAQUE'), ('HAVANA', 'CUBA', 'PEQUIM', 'CHINA'), ('HAVANA', 'CUBA', 'BERLIM', 'ALEMANHA'), ('HAVANA', 'CUBA', 'CAIRO', 'EGITO'), ('CABUL', 'AFEGANISTÃO', 'LONDRES', 'INGLATERRA'), ('CABUL', 'AFEGANISTÃO', 'MOSCOU', 'RÚSSIA'), ('CABUL', 'AFEGANISTÃO', 'OSLO', 'NORUEGA'), ('CABUL', 'AFEGANISTÃO', 'OTTAWA', 'CANADÁ'), ('CABUL', 'AFEGANISTÃO', 'PARIS', 'FRANÇA'), ('CABUL', 'AFEGANISTÃO', 'ROMA', 'ITÁLIA'), ('CABUL', 'AFEGANISTÃO', 'TEERÃ', 'IRÃ'), ('CABUL', 'AFEGANISTÃO', 'TÓQUIO', 'JAPÃO'), ('CABUL', 'AFEGANISTÃO', 'ATENAS', 'GRÉCIA'), ('CABUL', 'AFEGANISTÃO', 'BAGDÁ', 'IRAQUE'), ('CABUL', 'AFEGANISTÃO', 'PEQUIM', 'CHINA'), ('CABUL', 'AFEGANISTÃO', 'BERLIM', 'ALEMANHA'), ('CABUL', 'AFEGANISTÃO', 'HAVANA', 'CUBA'), ('LONDRES', 'INGLATERRA', 'MOSCOU', 'RÚSSIA'), ('LONDRES', 'INGLATERRA', 'OSLO', 'NORUEGA'), ('LONDRES', 'INGLATERRA', 'PARIS', 'FRANÇA'), ('LONDRES', 'INGLATERRA', 'ROMA', 'ITÁLIA'), ('LONDRES', 'INGLATERRA', 'ESTOCOLMO', 'SUÉCIA'), ('LONDRES', 'INGLATERRA', 'TEERÃ', 'IRÃ'), ('LONDRES', 'INGLATERRA', 'TÓQUIO', 'JAPÃO'), ('LONDRES', 'INGLATERRA', 'ATENAS', 'GRÉCIA'), ('LONDRES', 'INGLATERRA', 'PEQUIM', 'CHINA'), ('LONDRES', 'INGLATERRA', 'BERLIM', 'ALEMANHA'), ('LONDRES', 'INGLATERRA', 'CAIRO', 'EGITO'), ('LONDRES', 'INGLATERRA', 'HAVANA', 'CUBA'), ('LONDRES', 'INGLATERRA', 'CABUL', 'AFEGANISTÃO'), ('MADRID', 'ESPANHA', 'MOSCOU', 'RÚSSIA'), ('MADRID', 'ESPANHA', 'OSLO', 'NORUEGA'), ('MADRID', 'ESPANHA', 'OTTAWA', 'CANADÁ'), ('MADRID', 'ESPANHA', 'PARIS', 'FRANÇA'), ('MADRID', 'ESPANHA', 'ROMA', 'ITÁLIA'), ('MADRID', 'ESPANHA', 'ESTOCOLMO', 'SUÉCIA'), ('MADRID', 'ESPANHA', 'TEERÃ', 'IRÃ'), ('MADRID', 'ESPANHA', 'TÓQUIO', 'JAPÃO'), ('MADRID', 'ESPANHA', 'ATENAS', 'GRÉCIA'), ('MADRID', 'ESPANHA', 'BAGDÁ', 'IRAQUE'), ('MADRID', 'ESPANHA', 'PEQUIM', 'CHINA'), ('MADRID', 'ESPANHA', 'BERLIM', 'ALEMANHA'), ('MADRID', 'ESPANHA', 'CAIRO', 'EGITO'), ('MADRID', 'ESPANHA', 'HAVANA', 'CUBA'), ('MADRID', 'ESPANHA', 'CABUL', 'AFEGANISTÃO'), ('MOSCOU', 'RÚSSIA', 'OSLO', 'NORUEGA'), ('MOSCOU', 'RÚSSIA', 'OTTAWA', 'CANADÁ'), ('MOSCOU', 'RÚSSIA', 'PARIS', 'FRANÇA'), ('MOSCOU', 'RÚSSIA', 'ROMA', 'ITÁLIA'), ('MOSCOU', 'RÚSSIA', 'ESTOCOLMO', 'SUÉCIA'), ('MOSCOU', 'RÚSSIA', 'TEERÃ', 'IRÃ'), ('MOSCOU', 'RÚSSIA', 'TÓQUIO', 'JAPÃO'), ('MOSCOU', 'RÚSSIA', 'ATENAS', 'GRÉCIA'), ('MOSCOU', 'RÚSSIA', 'BAGDÁ', 'IRAQUE'), ('MOSCOU', 'RÚSSIA', 'PEQUIM', 'CHINA'), ('MOSCOU', 'RÚSSIA', 'BERLIM', 'ALEMANHA'), ('MOSCOU', 'RÚSSIA', 'HAVANA', 'CUBA'), ('MOSCOU', 'RÚSSIA', 'CABUL', 'AFEGANISTÃO'), ('MOSCOU', 'RÚSSIA', 'MADRID', 'ESPANHA'), ('OSLO', 'NORUEGA', 'OTTAWA', 'CANADÁ'), ('OSLO', 'NORUEGA', 'PARIS', 'FRANÇA'), ('OSLO', 'NORUEGA', 'ROMA', 'ITÁLIA'), ('OSLO', 'NORUEGA', 'ESTOCOLMO', 'SUÉCIA'), ('OSLO', 'NORUEGA', 'TEERÃ', 'IRÃ'), ('OSLO', 'NORUEGA', 'TÓQUIO', 'JAPÃO'), ('OSLO', 'NORUEGA', 'ATENAS', 'GRÉCIA'), ('OSLO', 'NORUEGA', 'PEQUIM', 'CHINA'), ('OSLO', 'NORUEGA', 'BERLIM', 'ALEMANHA'), ('OSLO', 'NORUEGA', 'CAIRO', 'EGITO'), ('OSLO', 'NORUEGA', 'HAVANA', 'CUBA'), ('OSLO', 'NORUEGA', 'CABUL', 'AFEGANISTÃO'), ('OSLO', 'NORUEGA', 'LONDRES', 'INGLATERRA'), ('OSLO', 'NORUEGA', 'MADRID', 'ESPANHA'), ('OSLO', 'NORUEGA', 'MOSCOU', 'RÚSSIA'), ('OTTAWA', 'CANADÁ', 'PARIS', 'FRANÇA'), ('OTTAWA', 'CANADÁ', 'ROMA', 'ITÁLIA'), ('OTTAWA', 'CANADÁ', 'ESTOCOLMO', 'SUÉCIA'), ('OTTAWA', 'CANADÁ', 'TEERÃ', 'IRÃ'), ('OTTAWA', 'CANADÁ', 'TÓQUIO', 'JAPÃO'), ('OTTAWA', 'CANADÁ', 'ATENAS', 'GRÉCIA'), ('OTTAWA', 'CANADÁ', 'BAGDÁ', 'IRAQUE'), ('OTTAWA', 'CANADÁ', 'PEQUIM', 'CHINA'), ('OTTAWA', 'CANADÁ', 'BERLIM', 'ALEMANHA'), ('OTTAWA', 'CANADÁ', 'HAVANA', 'CUBA'), ('OTTAWA', 'CANADÁ', 'CABUL', 'AFEGANISTÃO'), ('OTTAWA', 'CANADÁ', 'MADRID', 'ESPANHA'), ('OTTAWA', 'CANADÁ', 'MOSCOU', 'RÚSSIA'), ('OTTAWA', 'CANADÁ', 'OSLO', 'NORUEGA'), ('PARIS', 'FRANÇA', 'ROMA', 'ITÁLIA'), ('PARIS', 'FRANÇA', 'ESTOCOLMO', 'SUÉCIA'), ('PARIS', 'FRANÇA', 'TEERÃ', 'IRÃ'), ('PARIS', 'FRANÇA', 'TÓQUIO', 'JAPÃO'), ('PARIS', 'FRANÇA', 'ATENAS', 'GRÉCIA'), ('PARIS', 'FRANÇA', 'BAGDÁ', 'IRAQUE'), ('PARIS', 'FRANÇA', 'PEQUIM', 'CHINA'), ('PARIS', 'FRANÇA', 'BERLIM', 'ALEMANHA'), ('PARIS', 'FRANÇA', 'BERNA', 'SUÍÇA'), ('PARIS', 'FRANÇA', 'CAIRO', 'EGITO'), ('PARIS', 'FRANÇA', 'HAVANA', 'CUBA'), ('PARIS', 'FRANÇA', 'CABUL', 'AFEGANISTÃO'), ('PARIS', 'FRANÇA', 'MADRID', 'ESPANHA'), ('PARIS', 'FRANÇA', 'MOSCOU', 'RÚSSIA'), ('PARIS', 'FRANÇA', 'OSLO', 'NORUEGA'), ('PARIS', 'FRANÇA', 'OTTAWA', 'CANADÁ'), ('ROMA', 'ITÁLIA', 'ESTOCOLMO', 'SUÉCIA'), ('ROMA', 'ITÁLIA', 'TEERÃ', 'IRÃ'), ('ROMA', 'ITÁLIA', 'TÓQUIO', 'JAPÃO'), ('ROMA', 'ITÁLIA', 'ATENAS', 'GRÉCIA'), ('ROMA', 'ITÁLIA', 'BAGDÁ', 'IRAQUE'), ('ROMA', 'ITÁLIA', 'PEQUIM', 'CHINA'), ('ROMA', 'ITÁLIA', 'BERLIM', 'ALEMANHA'), ('ROMA', 'ITÁLIA', 'HAVANA', 'CUBA'), ('ROMA', 'ITÁLIA', 'CABUL', 'AFEGANISTÃO'), ('ROMA', 'ITÁLIA', 'MADRID', 'ESPANHA'), ('ROMA', 'ITÁLIA', 'MOSCOU', 'RÚSSIA'), ('ROMA', 'ITÁLIA', 'OSLO', 'NORUEGA'), ('ROMA', 'ITÁLIA', 'OTTAWA', 'CANADÁ'), ('ROMA', 'ITÁLIA', 'PARIS', 'FRANÇA'), ('ESTOCOLMO', 'SUÉCIA', 'TEERÃ', 'IRÃ'), ('ESTOCOLMO', 'SUÉCIA', 'TÓQUIO', 'JAPÃO'), ('ESTOCOLMO', 'SUÉCIA', 'ATENAS', 'GRÉCIA'), ('ESTOCOLMO', 'SUÉCIA', 'BAGDÁ', 'IRAQUE'), ('ESTOCOLMO', 'SUÉCIA', 'PEQUIM', 'CHINA'), ('ESTOCOLMO', 'SUÉCIA', 'BERLIM', 'ALEMANHA'), ('ESTOCOLMO', 'SUÉCIA', 'CAIRO', 'EGITO'), ('ESTOCOLMO', 'SUÉCIA', 'HAVANA', 'CUBA'), ('ESTOCOLMO', 'SUÉCIA', 'CABUL', 'AFEGANISTÃO'), ('ESTOCOLMO', 'SUÉCIA', 'LONDRES', 'INGLATERRA'), ('ESTOCOLMO', 'SUÉCIA', 'MADRID', 'ESPANHA'), ('ESTOCOLMO', 'SUÉCIA', 'MOSCOU', 'RÚSSIA'), ('ESTOCOLMO', 'SUÉCIA', 'OSLO', 'NORUEGA'), ('ESTOCOLMO', 'SUÉCIA', 'OTTAWA', 'CANADÁ'), ('ESTOCOLMO', 'SUÉCIA', 'PARIS', 'FRANÇA'), ('ESTOCOLMO', 'SUÉCIA', 'ROMA', 'ITÁLIA'), ('TEERÃ', 'IRÃ', 'TÓQUIO', 'JAPÃO'), ('TEERÃ', 'IRÃ', 'ATENAS', 'GRÉCIA'), ('TEERÃ', 'IRÃ', 'BAGDÁ', 'IRAQUE'), ('TEERÃ', 'IRÃ', 'PEQUIM', 'CHINA'), ('TEERÃ', 'IRÃ', 'BERLIM', 'ALEMANHA'), ('TEERÃ', 'IRÃ', 'BERNA', 'SUÍÇA'), ('TEERÃ', 'IRÃ', 'CAIRO', 'EGITO'), ('TEERÃ', 'IRÃ', 'HAVANA', 'CUBA'), ('TEERÃ', 'IRÃ', 'CABUL', 'AFEGANISTÃO'), ('TEERÃ', 'IRÃ', 'MOSCOU', 'RÚSSIA'), ('TEERÃ', 'IRÃ', 'OSLO', 'NORUEGA'), ('TEERÃ', 'IRÃ', 'OTTAWA', 'CANADÁ'), ('TEERÃ', 'IRÃ', 'PARIS', 'FRANÇA'), ('TEERÃ', 'IRÃ', 'ROMA', 'ITÁLIA'), ('TEERÃ', 'IRÃ', 'ESTOCOLMO', 'SUÉCIA'), ('TÓQUIO', 'JAPÃO', 'ATENAS', 'GRÉCIA'), ('TÓQUIO', 'JAPÃO', 'BAGDÁ', 'IRAQUE'), ('TÓQUIO', 'JAPÃO', 'PEQUIM', 'CHINA'), ('TÓQUIO', 'JAPÃO', 'BERLIM', 'ALEMANHA'), ('TÓQUIO', 'JAPÃO', 'BERNA', 'SUÍÇA'), ('TÓQUIO', 'JAPÃO', 'CAIRO', 'EGITO'), ('TÓQUIO', 'JAPÃO', 'HAVANA', 'CUBA'), ('TÓQUIO', 'JAPÃO', 'CABUL', 'AFEGANISTÃO'), ('TÓQUIO', 'JAPÃO', 'LONDRES', 'INGLATERRA'), ('TÓQUIO', 'JAPÃO', 'MADRID', 'ESPANHA'), ('TÓQUIO', 'JAPÃO', 'MOSCOU', 'RÚSSIA'), ('TÓQUIO', 'JAPÃO', 'OSLO', 'NORUEGA'), ('TÓQUIO', 'JAPÃO', 'OTTAWA', 'CANADÁ'), ('TÓQUIO', 'JAPÃO', 'PARIS', 'FRANÇA'), ('TÓQUIO', 'JAPÃO', 'ROMA', 'ITÁLIA'), ('TÓQUIO', 'JAPÃO', 'ESTOCOLMO', 'SUÉCIA'), ('TÓQUIO', 'JAPÃO', 'TEERÃ', 'IRÃ')]\n",
      "../models/skip_s300fast.txt@../testsets/LX-4WAnalogiesBr.txt-0.8627450980392157%\n"
     ]
    }
   ],
   "source": [
    "modelsList = glob('../models/*fast.txt')\n",
    "testSet = glob('../testsets/*Analogies*')\n",
    "acc = {}\n",
    "for model in modelsList :\n",
    "    for test in testSet:        \n",
    "        acc_ratings = eval_analogy_accuracy(model,test)\n",
    "        acc[model+test] = acc_ratings\n",
    "        accuracy = acc_ratings[0] / (acc_ratings[0] + acc_ratings[1])\n",
    "        print(model + '@' + test + '-' + str(accuracy) + '%')"
   ]
  },
  {
   "cell_type": "code",
   "execution_count": 3,
   "metadata": {},
   "outputs": [],
   "source": [
    "modelsList = glob('../models/*fast.txt')\n",
    "model  =  getModel(modelsList[0])\n"
   ]
  },
  {
   "cell_type": "code",
   "execution_count": 28,
   "metadata": {},
   "outputs": [
    {
     "data": {
      "text/plain": [
       "[('seul', 0.6353664398193359),\n",
       " ('pequim-taipé', 0.6326602101325989),\n",
       " ('xangai', 0.6200852394104004),\n",
       " ('pequim-xangai', 0.6111860275268555),\n",
       " ('pequim-pyongyang', 0.6070454120635986),\n",
       " ('pequim-china', 0.6038728952407837),\n",
       " ('taipé', 0.5943089723587036),\n",
       " ('xiaoshuang', 0.5923561453819275),\n",
       " ('pequim.o', 0.590029239654541),\n",
       " ('xangai-china', 0.5886864066123962)]"
      ]
     },
     "execution_count": 28,
     "metadata": {},
     "output_type": "execute_result"
    }
   ],
   "source": [
    "model.most_similar(positive=['atenas','pequim'],negative=['grécia'])"
   ]
  },
  {
   "cell_type": "code",
   "execution_count": 29,
   "metadata": {},
   "outputs": [
    {
     "data": {
      "text/plain": [
       "[('pequim', 0.8225739002227783),\n",
       " ('xangai-china', 0.7064758539199829),\n",
       " ('tianjing', 0.699294924736023),\n",
       " ('shenzhen-china', 0.689010500907898),\n",
       " ('zhongzhou', 0.6873874664306641),\n",
       " ('zhendong', 0.6834413409233093),\n",
       " ('chinesa', 0.6772347688674927),\n",
       " ('zhongjing', 0.6769419312477112),\n",
       " ('xangai', 0.6768250465393066),\n",
       " ('zhongyang', 0.6758601665496826)]"
      ]
     },
     "execution_count": 29,
     "metadata": {},
     "output_type": "execute_result"
    }
   ],
   "source": [
    "model.most_similar(positive=['atenas','china'],negative=['grécia'])"
   ]
  },
  {
   "cell_type": "code",
   "execution_count": 30,
   "metadata": {},
   "outputs": [
    {
     "data": {
      "text/plain": [
       "[('coreia', 0.6270121335983276),\n",
       " ('taiwan', 0.621976375579834),\n",
       " ('tailândia', 0.6031404137611389),\n",
       " ('china.', 0.5803037881851196),\n",
       " ('coréia', 0.558039665222168),\n",
       " ('japão', 0.5508037209510803),\n",
       " ('china-taiwan', 0.550620436668396),\n",
       " ('índia', 0.5471624135971069),\n",
       " ('malásia', 0.5458478927612305),\n",
       " ('rússia', 0.5385729670524597)]"
      ]
     },
     "execution_count": 30,
     "metadata": {},
     "output_type": "execute_result"
    }
   ],
   "source": [
    "model.most_similar(positive=['grécia','china'],negative=['atenas'])"
   ]
  },
  {
   "cell_type": "code",
   "execution_count": 31,
   "metadata": {},
   "outputs": [
    {
     "data": {
      "text/plain": [
       "[('china', 0.7808929681777954),\n",
       " ('taiwan', 0.658018171787262),\n",
       " ('pequim-pyongyang', 0.6476016044616699),\n",
       " ('coreia', 0.6296229958534241),\n",
       " ('pequim-china', 0.609553337097168),\n",
       " ('china-taiwan', 0.6077865362167358),\n",
       " ('indonésia', 0.6074162721633911),\n",
       " ('pequim-taipé', 0.6063328385353088),\n",
       " ('tibete', 0.6040211915969849),\n",
       " ('china.', 0.5988819599151611)]"
      ]
     },
     "execution_count": 31,
     "metadata": {},
     "output_type": "execute_result"
    }
   ],
   "source": [
    "model.most_similar(positive=['grécia','pequim'],negative=['atenas'])"
   ]
  },
  {
   "cell_type": "markdown",
   "metadata": {},
   "source": [
    "## Exploração de Relações"
   ]
  },
  {
   "cell_type": "markdown",
   "metadata": {},
   "source": [
    "### Pais-Presidente"
   ]
  },
  {
   "cell_type": "code",
   "execution_count": 3,
   "metadata": {},
   "outputs": [],
   "source": [
    "def analogy(pos, neg):\n",
    "    return model.most_similar(pos,neg)"
   ]
  },
  {
   "cell_type": "code",
   "execution_count": 4,
   "metadata": {},
   "outputs": [],
   "source": [
    "modelsList = glob('../models/*fast.txt')\n",
    "model  =  getModel(modelsList[0])"
   ]
  },
  {
   "cell_type": "code",
   "execution_count": 11,
   "metadata": {},
   "outputs": [
    {
     "data": {
      "text/plain": [
       "[('almerico', 0.5518990755081177),\n",
       " ('casimiro', 0.5496413707733154),\n",
       " ('espanha', 0.5445067882537842),\n",
       " ('d.álvaro', 0.5442548394203186),\n",
       " ('espanha—', 0.5391455888748169),\n",
       " ('defrederico', 0.5370157957077026),\n",
       " ('carlos', 0.536718487739563),\n",
       " ('frederico', 0.5309009552001953),\n",
       " ('landerico', 0.5286349654197693),\n",
       " ('joão', 0.5255224704742432)]"
      ]
     },
     "execution_count": 11,
     "metadata": {},
     "output_type": "execute_result"
    }
   ],
   "source": [
    "analogy(['alemanha','pedro'],['merkel'])"
   ]
  },
  {
   "cell_type": "code",
   "execution_count": 17,
   "metadata": {},
   "outputs": [
    {
     "data": {
      "text/plain": [
       "[('espanha—', 0.7498310804367065),\n",
       " ('espanha00', 0.6783173084259033),\n",
       " ('espanhae', 0.6701262593269348),\n",
       " ('espanhaa', 0.6699966192245483),\n",
       " ('espanha-holanda', 0.6659545302391052),\n",
       " ('espanha-suécia', 0.6606740355491638),\n",
       " ('espanha.', 0.6600045561790466),\n",
       " ('espanha-', 0.6597695350646973),\n",
       " ('itália', 0.6564512252807617),\n",
       " ('espanha-dinamarca', 0.6559625864028931)]"
      ]
     },
     "execution_count": 17,
     "metadata": {},
     "output_type": "execute_result"
    }
   ],
   "source": [
    "analogy(['alemanha','espanha'],['merkel'])"
   ]
  },
  {
   "cell_type": "code",
   "execution_count": 20,
   "metadata": {},
   "outputs": [
    {
     "data": {
      "text/plain": [
       "[('rajoy', 0.7286856174468994),\n",
       " ('aznar', 0.6592538356781006),\n",
       " ('psoe', 0.620030403137207),\n",
       " ('zapatero', 0.6065688133239746),\n",
       " ('aznarez', 0.5837963223457336),\n",
       " ('aznares', 0.5837029814720154),\n",
       " ('valls', 0.5767079591751099),\n",
       " ('sanchèz', 0.5551716089248657),\n",
       " ('tsipras', 0.5524406433105469),\n",
       " ('governo.pedro', 0.5391397476196289)]"
      ]
     },
     "execution_count": 20,
     "metadata": {},
     "output_type": "execute_result"
    }
   ],
   "source": [
    "analogy(['merkel','espanha'],['alemanha'])"
   ]
  },
  {
   "cell_type": "code",
   "execution_count": 21,
   "metadata": {},
   "outputs": [
    {
     "data": {
      "text/plain": [
       "[('alemanha', 0.764701783657074),\n",
       " ('—alemanha', 0.6655969619750977),\n",
       " ('alemanhã', 0.6514356136322021),\n",
       " ('alemanhao', 0.6505365371704102),\n",
       " ('flalemanha', 0.6500216722488403),\n",
       " ('alemanha.', 0.6379072666168213),\n",
       " ('áustria', 0.6368333101272583),\n",
       " ('alemanhae', 0.635574460029602),\n",
       " ('daalemanha', 0.6325020790100098),\n",
       " ('frança', 0.6310713291168213)]"
      ]
     },
     "execution_count": 21,
     "metadata": {},
     "output_type": "execute_result"
    }
   ],
   "source": [
    "analogy(['merkel','espanha'],['rajoy'])"
   ]
  },
  {
   "cell_type": "code",
   "execution_count": 22,
   "metadata": {},
   "outputs": [
    {
     "data": {
      "text/plain": [
       "[('alemanha', 0.6142593622207642),\n",
       " ('merkels', 0.6087908744812012),\n",
       " ('—alemanha', 0.5496107339859009),\n",
       " ('alemanhã', 0.5418405532836914),\n",
       " ('daalemanha', 0.5393727421760559),\n",
       " ('aalemanha', 0.5302841663360596),\n",
       " ('grã-bretanha', 0.5299718379974365),\n",
       " ('merkell', 0.5251693725585938),\n",
       " ('rfa', 0.5224390029907227),\n",
       " ('alemanha.', 0.5212670564651489)]"
      ]
     },
     "execution_count": 22,
     "metadata": {},
     "output_type": "execute_result"
    }
   ],
   "source": [
    "analogy(['merkel','espanha'],['pedro'])"
   ]
  },
  {
   "cell_type": "code",
   "execution_count": 16,
   "metadata": {},
   "outputs": [
    {
     "data": {
      "text/plain": [
       "[('alemanha', 0.5969653725624084),\n",
       " ('merkels', 0.5662009119987488),\n",
       " ('unidos-alemanha', 0.5261813402175903),\n",
       " ('norte-alemanha', 0.524412989616394),\n",
       " ('unidos', 0.5220237970352173),\n",
       " ('—alemanha', 0.5149574279785156),\n",
       " ('eua-alemanha', 0.5114097595214844),\n",
       " ('merkell', 0.5098249912261963),\n",
       " ('alemanhã', 0.5077592134475708),\n",
       " ('rfa', 0.5076024532318115)]"
      ]
     },
     "execution_count": 16,
     "metadata": {},
     "output_type": "execute_result"
    }
   ],
   "source": [
    "analogy(['eua','merkel'],['obama'])"
   ]
  },
  {
   "cell_type": "markdown",
   "metadata": {},
   "source": [
    "Podemos observar algumas \"sujeiras\" na base, como palavras do vocabulário iguais [alemanha, -alemanha, alemanha., aalemanha, etc] que possivelmente poderiam acresentar o conhecimento porém são distinguidas."
   ]
  },
  {
   "cell_type": "code",
   "execution_count": 23,
   "metadata": {},
   "outputs": [
    {
     "data": {
      "text/plain": [
       "[('espanha', 0.5240928530693054),\n",
       " ('psoe', 0.5091129541397095),\n",
       " ('ciudadanos', 0.48313695192337036),\n",
       " ('psoe-ciudadanos', 0.47759440541267395),\n",
       " ('euskadiko', 0.4676378667354584),\n",
       " ('pnv', 0.46438828110694885),\n",
       " ('psg-eg', 0.46226945519447327),\n",
       " ('catalunha', 0.46061208844184875),\n",
       " ('psc-psoe', 0.45780810713768005),\n",
       " ('ciu', 0.44975438714027405)]"
      ]
     },
     "execution_count": 23,
     "metadata": {},
     "output_type": "execute_result"
    }
   ],
   "source": [
    "analogy(['eua','rajoy'],['obama'])"
   ]
  },
  {
   "cell_type": "code",
   "execution_count": 25,
   "metadata": {},
   "outputs": [
    {
     "data": {
      "text/plain": [
       "[('aconte', 0.4805164933204651),\n",
       " ('reconte', 0.4697737991809845),\n",
       " ('contare', 0.46969348192214966),\n",
       " ('contar', 0.4668620824813843),\n",
       " ('laconte', 0.4613804817199707),\n",
       " ('cont_y', 0.44842708110809326),\n",
       " ('contando', 0.4448748230934143),\n",
       " ('contart', 0.44243723154067993),\n",
       " ('contate-me', 0.44098061323165894),\n",
       " ('dinco', 0.43836963176727295)]"
      ]
     },
     "execution_count": 25,
     "metadata": {},
     "output_type": "execute_result"
    }
   ],
   "source": [
    "analogy(['eua','conte'],['obama'])"
   ]
  },
  {
   "cell_type": "code",
   "execution_count": 28,
   "metadata": {},
   "outputs": [
    {
     "data": {
      "text/plain": [
       "[('berlusconni', 0.6438901424407959),\n",
       " ('berlusconis', 0.6181439757347107),\n",
       " ('anti-berlusconi', 0.5776601433753967),\n",
       " ('fininvest', 0.5587810277938843),\n",
       " ('itália', 0.5479344725608826),\n",
       " ('fininveste', 0.526879072189331),\n",
       " ('berlusconiano', 0.5187187194824219),\n",
       " ('bossi', 0.5073366165161133),\n",
       " ('berlusconiana', 0.5062928795814514),\n",
       " ('publitália', 0.4963296353816986)]"
      ]
     },
     "execution_count": 28,
     "metadata": {},
     "output_type": "execute_result"
    }
   ],
   "source": [
    "analogy(['eua','berlusconi'],['obama'])"
   ]
  },
  {
   "cell_type": "code",
   "execution_count": 31,
   "metadata": {},
   "outputs": [
    {
     "data": {
      "text/plain": [
       "[('donnini', 0.4999428391456604),\n",
       " ('brugnetti', 0.48805248737335205),\n",
       " ('pettini', 0.482662558555603),\n",
       " ('rigamonti', 0.48097920417785645),\n",
       " ('gargani', 0.47859567403793335),\n",
       " ('morettini', 0.47735702991485596),\n",
       " ('guidoni', 0.4716886878013611),\n",
       " ('roccettini', 0.4710380434989929),\n",
       " ('tognetti', 0.4643009305000305),\n",
       " ('castagnetti', 0.46322035789489746)]"
      ]
     },
     "execution_count": 31,
     "metadata": {},
     "output_type": "execute_result"
    }
   ],
   "source": [
    "analogy(['eua','monti'],['obama'])"
   ]
  },
  {
   "cell_type": "code",
   "execution_count": 33,
   "metadata": {},
   "outputs": [
    {
     "data": {
      "text/plain": [
       "[('henrico', 0.5625894665718079),\n",
       " ('valerio', 0.5209310054779053),\n",
       " ('vitagliano', 0.5094318985939026),\n",
       " ('defrancesco', 0.5074387788772583),\n",
       " ('battistini', 0.49750638008117676),\n",
       " ('panrico', 0.497505247592926),\n",
       " ('riccardo', 0.4942808151245117),\n",
       " ('fabrizio', 0.4913637936115265),\n",
       " ('itália', 0.4912784695625305),\n",
       " ('piercarlo', 0.4887745976448059)]"
      ]
     },
     "execution_count": 33,
     "metadata": {},
     "output_type": "execute_result"
    }
   ],
   "source": [
    "analogy(['eua','enrico'],['obama'])"
   ]
  },
  {
   "cell_type": "code",
   "execution_count": 34,
   "metadata": {},
   "outputs": [
    {
     "data": {
      "text/plain": [
       "[('itália', 0.5320799946784973),\n",
       " ('matteoti', 0.5318585634231567),\n",
       " ('itáliano', 0.5174192786216736),\n",
       " ('matteotti', 0.5150493383407593),\n",
       " ('matteoli', 0.5115050077438354),\n",
       " ('pierini', 0.5032851099967957),\n",
       " ('bartoloni', 0.5032413005828857),\n",
       " ('francesco', 0.5031288862228394),\n",
       " ('vittorini', 0.5030046105384827),\n",
       " ('itáliao', 0.5030040144920349)]"
      ]
     },
     "execution_count": 34,
     "metadata": {},
     "output_type": "execute_result"
    }
   ],
   "source": [
    "analogy(['eua','matteo'],['obama'])"
   ]
  },
  {
   "cell_type": "code",
   "execution_count": 35,
   "metadata": {
    "scrolled": true
   },
   "outputs": [
    {
     "data": {
      "text/plain": [
       "[('itália', 0.5503702163696289),\n",
       " ('firenzi', 0.5223995447158813),\n",
       " ('unidos', 0.4993197023868561),\n",
       " ('matteo', 0.49648967385292053),\n",
       " ('renzis', 0.4830038249492645),\n",
       " ('fenzi', 0.47789183259010315),\n",
       " ('pierini', 0.47173431515693665),\n",
       " ('fratangelo', 0.4644283652305603),\n",
       " ('matteotti', 0.4622066617012024),\n",
       " ('berlusconi', 0.459841251373291)]"
      ]
     },
     "execution_count": 35,
     "metadata": {},
     "output_type": "execute_result"
    }
   ],
   "source": [
    "analogy(['eua','renzi'],['obama'])"
   ]
  },
  {
   "cell_type": "code",
   "execution_count": 39,
   "metadata": {
    "scrolled": true
   },
   "outputs": [
    {
     "data": {
      "text/plain": [
       "[('xangai-china', 0.5721220970153809),\n",
       " ('chineses', 0.5484108924865723),\n",
       " ('chinês', 0.5439406633377075),\n",
       " ('eu-china', 0.5283564329147339),\n",
       " ('jianchang', 0.5267597436904907),\n",
       " ('chinesa', 0.5229658484458923),\n",
       " ('chines', 0.5208600759506226),\n",
       " ('china.', 0.5207402110099792),\n",
       " ('cuba-china', 0.5201283097267151),\n",
       " ('chinesas', 0.519325852394104)]"
      ]
     },
     "execution_count": 39,
     "metadata": {},
     "output_type": "execute_result"
    }
   ],
   "source": [
    "analogy(['china','macarrão'],['yakisoba'])"
   ]
  },
  {
   "cell_type": "code",
   "execution_count": 5,
   "metadata": {},
   "outputs": [
    {
     "data": {
      "text/plain": [
       "[('obama', 0.6659965515136719),\n",
       " ('barack', 0.655023455619812),\n",
       " ('clinton.a', 0.594444751739502),\n",
       " ('clinton', 0.5942842364311218),\n",
       " ('clinton-assad', 0.5905671119689941),\n",
       " ('clinton.o', 0.5777859687805176),\n",
       " ('kerry', 0.5762988328933716),\n",
       " ('biden', 0.5712915658950806),\n",
       " ('obamas', 0.5705500841140747),\n",
       " ('albright', 0.5607388019561768)]"
      ]
     },
     "execution_count": 5,
     "metadata": {},
     "output_type": "execute_result"
    }
   ],
   "source": [
    "analogy(['merkel','eua'],['alemanha'])"
   ]
  },
  {
   "cell_type": "code",
   "execution_count": 6,
   "metadata": {},
   "outputs": [
    {
     "data": {
      "text/plain": [
       "[('renzi', 0.5919277667999268),\n",
       " ('italiani', 0.5549381971359253),\n",
       " ('ditalia', 0.5436686277389526),\n",
       " ('italiamo', 0.5381110310554504),\n",
       " ('italia0', 0.536308765411377),\n",
       " ('berlusconi', 0.5361664891242981),\n",
       " ('d´italia', 0.5331833362579346),\n",
       " ('fitalia', 0.525377631187439),\n",
       " ('camerone', 0.5245084762573242),\n",
       " ('lavoratti', 0.5155940055847168)]"
      ]
     },
     "execution_count": 6,
     "metadata": {},
     "output_type": "execute_result"
    }
   ],
   "source": [
    "analogy(['merkel','italia'],['alemanha'])"
   ]
  },
  {
   "cell_type": "code",
   "execution_count": 7,
   "metadata": {},
   "outputs": [
    {
     "data": {
      "text/plain": [
       "[('brasil)em', 0.5761305689811707),\n",
       " ('\\x93dilma', 0.5755376815795898),\n",
       " ('brasil)\\x94,', 0.5744104385375977),\n",
       " ('brasilês', 0.5669643878936768),\n",
       " ('presidenta', 0.5624068975448608),\n",
       " ('brasil\\x94.', 0.5589420199394226),\n",
       " ('brasilmais', 0.5587708950042725),\n",
       " ('brasil\\x94,', 0.5558153390884399),\n",
       " ('brasilnão', 0.5549610257148743),\n",
       " ('brasil.é', 0.5547523498535156)]"
      ]
     },
     "execution_count": 7,
     "metadata": {},
     "output_type": "execute_result"
    }
   ],
   "source": [
    "analogy(['merkel','brasil'],['alemanha'])"
   ]
  },
  {
   "cell_type": "code",
   "execution_count": 8,
   "metadata": {},
   "outputs": [
    {
     "data": {
      "text/plain": [
       "[('dijssebloem', 0.614707887172699),\n",
       " ('dijsselbloem', 0.6047036051750183),\n",
       " ('merkell', 0.596217155456543),\n",
       " ('juncker', 0.5896487236022949),\n",
       " ('merkels', 0.58531653881073),\n",
       " ('hollande', 0.5834004878997803),\n",
       " ('merkel.o', 0.5777435898780823),\n",
       " ('holande', 0.5736743211746216),\n",
       " ('junckers', 0.571640133857727),\n",
       " ('rutte', 0.5627857446670532)]"
      ]
     },
     "execution_count": 8,
     "metadata": {},
     "output_type": "execute_result"
    }
   ],
   "source": [
    "analogy(['merkel','holanda'],['alemanha'])"
   ]
  },
  {
   "cell_type": "code",
   "execution_count": 7,
   "metadata": {},
   "outputs": [
    {
     "data": {
      "text/plain": [
       "[('eua', 0.8173750638961792),\n",
       " ('unidos,e', 0.7958360910415649),\n",
       " ('unidos.', 0.7799003720283508),\n",
       " ('unidos-', 0.7789234519004822),\n",
       " ('unidos.é', 0.7481932640075684),\n",
       " ('estadosunidos', 0.7360846400260925),\n",
       " ('unidos.fica', 0.7329683303833008),\n",
       " ('estados-unidos', 0.7277584075927734),\n",
       " ('unidos.ela', 0.7264972925186157),\n",
       " ('e.u.a', 0.7021260857582092)]"
      ]
     },
     "execution_count": 7,
     "metadata": {},
     "output_type": "execute_result"
    }
   ],
   "source": [
    "model.most_similar(positive=['estados','unidos'])"
   ]
  },
  {
   "cell_type": "code",
   "execution_count": 8,
   "metadata": {},
   "outputs": [
    {
     "data": {
      "text/plain": [
       "[('holanda.', 0.8068545460700989),\n",
       " ('holandas', 0.7937363982200623),\n",
       " ('roterdã-holanda', 0.7753633856773376),\n",
       " ('frança/holanda', 0.7715115547180176),\n",
       " ('holanda-bélgica', 0.7678250670433044),\n",
       " ('holand', 0.7434194087982178),\n",
       " ('holanda.o', 0.7411854863166809),\n",
       " ('bélgica', 0.7325699925422668),\n",
       " ('espanha-holanda', 0.7311862111091614),\n",
       " ('holanda-alemanha', 0.7242059707641602)]"
      ]
     },
     "execution_count": 8,
     "metadata": {},
     "output_type": "execute_result"
    }
   ],
   "source": [
    "model.most_similar(positive=['holanda'])"
   ]
  },
  {
   "cell_type": "code",
   "execution_count": 10,
   "metadata": {},
   "outputs": [
    {
     "data": {
      "text/plain": [
       "[('frança/holanda', 0.6957878470420837),\n",
       " ('holandas', 0.6895419359207153),\n",
       " ('bélgica', 0.6713705658912659),\n",
       " ('espanha', 0.6704224944114685),\n",
       " ('portugal', 0.6673567295074463),\n",
       " ('inglaterra-holanda', 0.6671522259712219),\n",
       " ('espanha-holanda', 0.6555101871490479),\n",
       " ('frança', 0.6544818878173828),\n",
       " ('holanda-bélgica', 0.6528982520103455),\n",
       " ('abélgica', 0.647580623626709)]"
      ]
     },
     "execution_count": 10,
     "metadata": {},
     "output_type": "execute_result"
    }
   ],
   "source": [
    "model.most_similar(positive=['holanda','país'])"
   ]
  },
  {
   "cell_type": "markdown",
   "metadata": {},
   "source": []
  },
  {
   "cell_type": "code",
   "execution_count": 7,
   "metadata": {},
   "outputs": [
    {
     "data": {
      "text/plain": [
       "[('chuva', 0.5868128538131714),\n",
       " ('granizo', 0.5454442501068115),\n",
       " ('evaporação', 0.5385028123855591),\n",
       " ('aguaneve', 0.5326476097106934),\n",
       " ('chuva.a', 0.5262962579727173),\n",
       " ('nevascas', 0.5163105726242065),\n",
       " ('granizos', 0.5094814300537109),\n",
       " ('fotoevaporação', 0.5086624026298523),\n",
       " ('chuva.', 0.5079367160797119),\n",
       " ('térmica', 0.5078336000442505)]"
      ]
     },
     "execution_count": 7,
     "metadata": {},
     "output_type": "execute_result"
    }
   ],
   "source": [
    "analogy(['neve','calor'],['frio'])"
   ]
  },
  {
   "cell_type": "code",
   "execution_count": 8,
   "metadata": {},
   "outputs": [
    {
     "data": {
      "text/plain": [
       "[('cachorrinho', 0.635928750038147),\n",
       " ('cachora', 0.6300210952758789),\n",
       " ('cachorrito', 0.6155412197113037),\n",
       " ('cachorrona', 0.6097216606140137),\n",
       " ('cachorrinhos', 0.60662442445755),\n",
       " ('pássaro', 0.591745913028717),\n",
       " ('cachorrinha', 0.5879471302032471),\n",
       " ('cachorro', 0.5865308046340942),\n",
       " ('robô-girafa', 0.5783734321594238),\n",
       " ('bunduda', 0.5777561664581299)]"
      ]
     },
     "execution_count": 8,
     "metadata": {},
     "output_type": "execute_result"
    }
   ],
   "source": [
    "analogy(['cachoro','felino'],['canino'])"
   ]
  },
  {
   "cell_type": "code",
   "execution_count": 11,
   "metadata": {},
   "outputs": [
    {
     "data": {
      "text/plain": [
       "[('caninos', 0.6211661100387573),\n",
       " ('felino', 0.608090877532959),\n",
       " ('gatopardo', 0.5799950957298279),\n",
       " ('canini', 0.5735528469085693),\n",
       " ('canin', 0.5718479156494141),\n",
       " ('canina', 0.5691990256309509),\n",
       " ('anofelino', 0.5584392547607422),\n",
       " ('gato-dourado', 0.5544600486755371),\n",
       " ('gato-cão', 0.5531497597694397),\n",
       " ('gato-leopardo', 0.5505276322364807)]"
      ]
     },
     "execution_count": 11,
     "metadata": {},
     "output_type": "execute_result"
    }
   ],
   "source": [
    "analogy(['gato','canino'],['cachorro'])"
   ]
  },
  {
   "cell_type": "markdown",
   "metadata": {},
   "source": []
  },
  {
   "cell_type": "code",
   "execution_count": null,
   "metadata": {},
   "outputs": [],
   "source": []
  },
  {
   "cell_type": "markdown",
   "metadata": {},
   "source": [
    "# Referencia\n",
    "\n",
    "https://papers.nips.cc/paper/5021-distributed-representations-of-words-and-phrases-and-their-compositionality.pdf"
   ]
  }
 ],
 "metadata": {
  "kernelspec": {
   "display_name": "Python 3",
   "language": "python",
   "name": "python3"
  },
  "language_info": {
   "codemirror_mode": {
    "name": "ipython",
    "version": 3
   },
   "file_extension": ".py",
   "mimetype": "text/x-python",
   "name": "python",
   "nbconvert_exporter": "python",
   "pygments_lexer": "ipython3",
   "version": "3.6.7"
  }
 },
 "nbformat": 4,
 "nbformat_minor": 2
}
